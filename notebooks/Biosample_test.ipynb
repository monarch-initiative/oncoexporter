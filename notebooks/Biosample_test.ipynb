{
 "cells": [
  {
   "cell_type": "code",
   "execution_count": 1,
   "metadata": {},
   "outputs": [],
   "source": [
    "import pandas as pd\n",
    "from cdapython import tables, columns, column_values, fetch_rows, summary_counts"
   ]
  },
  {
   "cell_type": "code",
   "execution_count": 2,
   "metadata": {},
   "outputs": [
    {
     "data": {
      "text/plain": [
       "(760769, 10)"
      ]
     },
     "execution_count": 2,
     "metadata": {},
     "output_type": "execute_result"
    }
   ],
   "source": [
    "pd.set_option('display.max_columns', None)\n",
    "\n",
    "specimen = fetch_rows(table='specimen', add_columns=['subject_id'])\n",
    "specimen.shape\n"
   ]
  },
  {
   "cell_type": "code",
   "execution_count": 3,
   "metadata": {},
   "outputs": [
    {
     "data": {
      "text/html": [
       "<div>\n",
       "<style scoped>\n",
       "    .dataframe tbody tr th:only-of-type {\n",
       "        vertical-align: middle;\n",
       "    }\n",
       "\n",
       "    .dataframe tbody tr th {\n",
       "        vertical-align: top;\n",
       "    }\n",
       "\n",
       "    .dataframe thead th {\n",
       "        text-align: right;\n",
       "    }\n",
       "</style>\n",
       "<table border=\"1\" class=\"dataframe\">\n",
       "  <thead>\n",
       "    <tr style=\"text-align: right;\">\n",
       "      <th></th>\n",
       "      <th>specimen_id</th>\n",
       "      <th>anatomical_site</th>\n",
       "      <th>days_to_collection</th>\n",
       "      <th>derived_from_specimen</th>\n",
       "      <th>derived_from_subject</th>\n",
       "      <th>primary_disease_type</th>\n",
       "      <th>source_material_type</th>\n",
       "      <th>specimen_associated_project</th>\n",
       "      <th>specimen_type</th>\n",
       "      <th>subject_id</th>\n",
       "    </tr>\n",
       "  </thead>\n",
       "  <tbody>\n",
       "    <tr>\n",
       "      <th>0</th>\n",
       "      <td>APOLLO-LUAD.AP-27JZ.225656b1-c7c8-579f-940c-47...</td>\n",
       "      <td></td>\n",
       "      <td>&lt;NA&gt;</td>\n",
       "      <td>APOLLO-LUAD.AP-27JZ.AP-27JZ-RD</td>\n",
       "      <td>APOLLO.AP-27JZ</td>\n",
       "      <td>Adenomas and Adenocarcinomas</td>\n",
       "      <td>Tumor Tissue</td>\n",
       "      <td>APOLLO-LUAD</td>\n",
       "      <td>portion</td>\n",
       "      <td>APOLLO.AP-27JZ</td>\n",
       "    </tr>\n",
       "    <tr>\n",
       "      <th>1</th>\n",
       "      <td>APOLLO-LUAD.AP-27JZ.71e063aa-7522-51e8-82ba-66...</td>\n",
       "      <td></td>\n",
       "      <td>&lt;NA&gt;</td>\n",
       "      <td>APOLLO-LUAD.AP-27JZ.225656b1-c7c8-579f-940c-47...</td>\n",
       "      <td>APOLLO.AP-27JZ</td>\n",
       "      <td>Adenomas and Adenocarcinomas</td>\n",
       "      <td>Tumor Tissue</td>\n",
       "      <td>APOLLO-LUAD</td>\n",
       "      <td>analyte</td>\n",
       "      <td>APOLLO.AP-27JZ</td>\n",
       "    </tr>\n",
       "    <tr>\n",
       "      <th>2</th>\n",
       "      <td>APOLLO-LUAD.AP-27JZ.a2dd7cac-6dbd-504a-a883-7f...</td>\n",
       "      <td></td>\n",
       "      <td>&lt;NA&gt;</td>\n",
       "      <td>APOLLO-LUAD.AP-27JZ.f8e900d4-93ff-5aee-b1f9-9d...</td>\n",
       "      <td>APOLLO.AP-27JZ</td>\n",
       "      <td>Adenomas and Adenocarcinomas</td>\n",
       "      <td>Tumor Tissue</td>\n",
       "      <td>APOLLO-LUAD</td>\n",
       "      <td>analyte</td>\n",
       "      <td>APOLLO.AP-27JZ</td>\n",
       "    </tr>\n",
       "    <tr>\n",
       "      <th>3</th>\n",
       "      <td>APOLLO-LUAD.AP-27JZ.AP-27JZ-2V</td>\n",
       "      <td></td>\n",
       "      <td>&lt;NA&gt;</td>\n",
       "      <td>initial specimen</td>\n",
       "      <td>APOLLO.AP-27JZ</td>\n",
       "      <td>Adenomas and Adenocarcinomas</td>\n",
       "      <td>Normal Tissue Sample</td>\n",
       "      <td>APOLLO-LUAD</td>\n",
       "      <td>sample</td>\n",
       "      <td>APOLLO.AP-27JZ</td>\n",
       "    </tr>\n",
       "    <tr>\n",
       "      <th>4</th>\n",
       "      <td>APOLLO-LUAD.AP-27JZ.AP-27JZ-2V-D</td>\n",
       "      <td></td>\n",
       "      <td>&lt;NA&gt;</td>\n",
       "      <td>APOLLO-LUAD.AP-27JZ.d044da39-b817-5542-b000-64...</td>\n",
       "      <td>APOLLO.AP-27JZ</td>\n",
       "      <td>Adenomas and Adenocarcinomas</td>\n",
       "      <td>Normal Tissue Sample</td>\n",
       "      <td>APOLLO-LUAD</td>\n",
       "      <td>aliquot</td>\n",
       "      <td>APOLLO.AP-27JZ</td>\n",
       "    </tr>\n",
       "  </tbody>\n",
       "</table>\n",
       "</div>"
      ],
      "text/plain": [
       "                                         specimen_id anatomical_site  \\\n",
       "0  APOLLO-LUAD.AP-27JZ.225656b1-c7c8-579f-940c-47...                   \n",
       "1  APOLLO-LUAD.AP-27JZ.71e063aa-7522-51e8-82ba-66...                   \n",
       "2  APOLLO-LUAD.AP-27JZ.a2dd7cac-6dbd-504a-a883-7f...                   \n",
       "3                     APOLLO-LUAD.AP-27JZ.AP-27JZ-2V                   \n",
       "4                   APOLLO-LUAD.AP-27JZ.AP-27JZ-2V-D                   \n",
       "\n",
       "   days_to_collection                              derived_from_specimen  \\\n",
       "0                <NA>                     APOLLO-LUAD.AP-27JZ.AP-27JZ-RD   \n",
       "1                <NA>  APOLLO-LUAD.AP-27JZ.225656b1-c7c8-579f-940c-47...   \n",
       "2                <NA>  APOLLO-LUAD.AP-27JZ.f8e900d4-93ff-5aee-b1f9-9d...   \n",
       "3                <NA>                                   initial specimen   \n",
       "4                <NA>  APOLLO-LUAD.AP-27JZ.d044da39-b817-5542-b000-64...   \n",
       "\n",
       "  derived_from_subject          primary_disease_type  source_material_type  \\\n",
       "0       APOLLO.AP-27JZ  Adenomas and Adenocarcinomas          Tumor Tissue   \n",
       "1       APOLLO.AP-27JZ  Adenomas and Adenocarcinomas          Tumor Tissue   \n",
       "2       APOLLO.AP-27JZ  Adenomas and Adenocarcinomas          Tumor Tissue   \n",
       "3       APOLLO.AP-27JZ  Adenomas and Adenocarcinomas  Normal Tissue Sample   \n",
       "4       APOLLO.AP-27JZ  Adenomas and Adenocarcinomas  Normal Tissue Sample   \n",
       "\n",
       "  specimen_associated_project specimen_type      subject_id  \n",
       "0                 APOLLO-LUAD       portion  APOLLO.AP-27JZ  \n",
       "1                 APOLLO-LUAD       analyte  APOLLO.AP-27JZ  \n",
       "2                 APOLLO-LUAD       analyte  APOLLO.AP-27JZ  \n",
       "3                 APOLLO-LUAD        sample  APOLLO.AP-27JZ  \n",
       "4                 APOLLO-LUAD       aliquot  APOLLO.AP-27JZ  "
      ]
     },
     "execution_count": 3,
     "metadata": {},
     "output_type": "execute_result"
    }
   ],
   "source": [
    "specimen = fetch_rows(table='specimen', match_any=['primary_diagnosis_site = *lung*' , 'primary_diagnosis_site = *pulmonary*'], add_columns=['subject_id'])\n",
    "specimen.head()"
   ]
  },
  {
   "cell_type": "code",
   "execution_count": 5,
   "metadata": {},
   "outputs": [
    {
     "data": {
      "text/plain": [
       "False"
      ]
     },
     "execution_count": 5,
     "metadata": {},
     "output_type": "execute_result"
    }
   ],
   "source": [
    "specimen.shape\n",
    "specimen['subject_id'].equals(specimen['derived_from_subject'])"
   ]
  },
  {
   "cell_type": "code",
   "execution_count": 8,
   "metadata": {},
   "outputs": [
    {
     "data": {
      "text/plain": [
       "(4461, 10)"
      ]
     },
     "execution_count": 8,
     "metadata": {},
     "output_type": "execute_result"
    }
   ],
   "source": [
    "subj_id_diff = specimen.query('subject_id != derived_from_subject')\n",
    "#subj_id_diff.head()\n",
    "subj_id_diff.shape"
   ]
  },
  {
   "cell_type": "code",
   "execution_count": 9,
   "metadata": {},
   "outputs": [
    {
     "data": {
      "text/html": [
       "<div>\n",
       "<style scoped>\n",
       "    .dataframe tbody tr th:only-of-type {\n",
       "        vertical-align: middle;\n",
       "    }\n",
       "\n",
       "    .dataframe tbody tr th {\n",
       "        vertical-align: top;\n",
       "    }\n",
       "\n",
       "    .dataframe thead th {\n",
       "        text-align: right;\n",
       "    }\n",
       "</style>\n",
       "<table border=\"1\" class=\"dataframe\">\n",
       "  <thead>\n",
       "    <tr style=\"text-align: right;\">\n",
       "      <th></th>\n",
       "      <th>treatment_id</th>\n",
       "      <th>days_to_treatment_end</th>\n",
       "      <th>days_to_treatment_start</th>\n",
       "      <th>number_of_cycles</th>\n",
       "      <th>therapeutic_agent</th>\n",
       "      <th>treatment_anatomic_site</th>\n",
       "      <th>treatment_effect</th>\n",
       "      <th>treatment_end_reason</th>\n",
       "      <th>treatment_outcome</th>\n",
       "      <th>treatment_type</th>\n",
       "      <th>subject_id</th>\n",
       "    </tr>\n",
       "  </thead>\n",
       "  <tbody>\n",
       "    <tr>\n",
       "      <th>0</th>\n",
       "      <td>APOLLO-LUAD.AP-27JZ.AP-27JZ-Diagnosis-treat-1</td>\n",
       "      <td>&lt;NA&gt;</td>\n",
       "      <td>&lt;NA&gt;</td>\n",
       "      <td>&lt;NA&gt;</td>\n",
       "      <td></td>\n",
       "      <td></td>\n",
       "      <td></td>\n",
       "      <td></td>\n",
       "      <td></td>\n",
       "      <td>Radiation Therapy</td>\n",
       "      <td>APOLLO.AP-27JZ</td>\n",
       "    </tr>\n",
       "    <tr>\n",
       "      <th>1</th>\n",
       "      <td>APOLLO-LUAD.AP-27JZ.AP-27JZ-Diagnosis-treat-2</td>\n",
       "      <td>&lt;NA&gt;</td>\n",
       "      <td>&lt;NA&gt;</td>\n",
       "      <td>&lt;NA&gt;</td>\n",
       "      <td></td>\n",
       "      <td></td>\n",
       "      <td></td>\n",
       "      <td></td>\n",
       "      <td></td>\n",
       "      <td>Chemotherapy</td>\n",
       "      <td>APOLLO.AP-27JZ</td>\n",
       "    </tr>\n",
       "    <tr>\n",
       "      <th>2</th>\n",
       "      <td>APOLLO-LUAD.AP-352Q.AP-352Q-Diagnosis-treat-1</td>\n",
       "      <td>&lt;NA&gt;</td>\n",
       "      <td>&lt;NA&gt;</td>\n",
       "      <td>&lt;NA&gt;</td>\n",
       "      <td></td>\n",
       "      <td></td>\n",
       "      <td></td>\n",
       "      <td></td>\n",
       "      <td></td>\n",
       "      <td>Radiation Therapy</td>\n",
       "      <td>APOLLO.AP-352Q</td>\n",
       "    </tr>\n",
       "    <tr>\n",
       "      <th>3</th>\n",
       "      <td>APOLLO-LUAD.AP-352Q.AP-352Q-Diagnosis-treat-2</td>\n",
       "      <td>&lt;NA&gt;</td>\n",
       "      <td>&lt;NA&gt;</td>\n",
       "      <td>&lt;NA&gt;</td>\n",
       "      <td></td>\n",
       "      <td></td>\n",
       "      <td></td>\n",
       "      <td></td>\n",
       "      <td></td>\n",
       "      <td>Chemotherapy</td>\n",
       "      <td>APOLLO.AP-352Q</td>\n",
       "    </tr>\n",
       "    <tr>\n",
       "      <th>4</th>\n",
       "      <td>APOLLO-LUAD.AP-3FY5.AP-3FY5-Diagnosis-treat-1</td>\n",
       "      <td>&lt;NA&gt;</td>\n",
       "      <td>&lt;NA&gt;</td>\n",
       "      <td>&lt;NA&gt;</td>\n",
       "      <td></td>\n",
       "      <td></td>\n",
       "      <td></td>\n",
       "      <td></td>\n",
       "      <td></td>\n",
       "      <td>Chemotherapy</td>\n",
       "      <td>APOLLO.AP-3FY5</td>\n",
       "    </tr>\n",
       "  </tbody>\n",
       "</table>\n",
       "</div>"
      ],
      "text/plain": [
       "                                    treatment_id  days_to_treatment_end  \\\n",
       "0  APOLLO-LUAD.AP-27JZ.AP-27JZ-Diagnosis-treat-1                   <NA>   \n",
       "1  APOLLO-LUAD.AP-27JZ.AP-27JZ-Diagnosis-treat-2                   <NA>   \n",
       "2  APOLLO-LUAD.AP-352Q.AP-352Q-Diagnosis-treat-1                   <NA>   \n",
       "3  APOLLO-LUAD.AP-352Q.AP-352Q-Diagnosis-treat-2                   <NA>   \n",
       "4  APOLLO-LUAD.AP-3FY5.AP-3FY5-Diagnosis-treat-1                   <NA>   \n",
       "\n",
       "   days_to_treatment_start  number_of_cycles therapeutic_agent  \\\n",
       "0                     <NA>              <NA>                     \n",
       "1                     <NA>              <NA>                     \n",
       "2                     <NA>              <NA>                     \n",
       "3                     <NA>              <NA>                     \n",
       "4                     <NA>              <NA>                     \n",
       "\n",
       "  treatment_anatomic_site treatment_effect treatment_end_reason  \\\n",
       "0                                                                 \n",
       "1                                                                 \n",
       "2                                                                 \n",
       "3                                                                 \n",
       "4                                                                 \n",
       "\n",
       "  treatment_outcome     treatment_type      subject_id  \n",
       "0                    Radiation Therapy  APOLLO.AP-27JZ  \n",
       "1                         Chemotherapy  APOLLO.AP-27JZ  \n",
       "2                    Radiation Therapy  APOLLO.AP-352Q  \n",
       "3                         Chemotherapy  APOLLO.AP-352Q  \n",
       "4                         Chemotherapy  APOLLO.AP-3FY5  "
      ]
     },
     "execution_count": 9,
     "metadata": {},
     "output_type": "execute_result"
    }
   ],
   "source": [
    "treatment = fetch_rows(table='treatment', match_any=['primary_diagnosis_site = *lung*' , 'primary_diagnosis_site = *pulmonary*'], add_columns=['subject_id'])\n",
    "treatment.head()"
   ]
  },
  {
   "cell_type": "code",
   "execution_count": 15,
   "metadata": {},
   "outputs": [
    {
     "data": {
      "text/plain": [
       "[]"
      ]
     },
     "execution_count": 15,
     "metadata": {},
     "output_type": "execute_result"
    }
   ],
   "source": [
    "#from oncoexporter.cda import CdaTableImporter\n",
    "from oncoexporter.cda._gdc import GdcMutationService\n",
    "subject_id_list = ['TCGA-05-4244', 'TCGA-05-4245', 'TCGA-05-4249', 'TCGA-05-4250', 'TCGA-05-4382',\n",
    "                   'TCGA-05-4384', 'TCGA-05-4389', 'TCGA-05-4390', 'TCGA-05-4395', 'TCGA-05-4396']\n",
    "subject_id = 'AP-CT3G' #'4d_lung.100_HM10395' # 'TCGA-DU-6407' CPTAC.C3N-01409\n",
    "gdc_timeout=int(100_000)\n",
    "gdc_mutation_service = GdcMutationService(timeout=gdc_timeout)\n",
    "\n",
    "variant_interpretations = gdc_mutation_service.fetch_variants(subject_id)\n",
    "variant_interpretations"
   ]
  }
 ],
 "metadata": {
  "kernelspec": {
   "display_name": "Phenopackets",
   "language": "python",
   "name": "python3"
  },
  "language_info": {
   "codemirror_mode": {
    "name": "ipython",
    "version": 3
   },
   "file_extension": ".py",
   "mimetype": "text/x-python",
   "name": "python",
   "nbconvert_exporter": "python",
   "pygments_lexer": "ipython3",
   "version": "3.11.8"
  }
 },
 "nbformat": 4,
 "nbformat_minor": 2
}
