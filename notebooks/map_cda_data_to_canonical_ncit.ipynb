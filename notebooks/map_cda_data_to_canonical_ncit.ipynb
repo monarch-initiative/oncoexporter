{
 "cells": [
  {
   "cell_type": "markdown",
   "metadata": {},
   "source": [
    "# Mapping CDA to NCIT data\n",
    "I have implemented a simple mapping strategy in the OpDiagnosisMapper class. Basically we use the three fields\n",
    "- primary_diagnosis\t\n",
    "- primary_diagnosis_condition\n",
    "- primary_diagnosis_site\t\n",
    "to look up NCIT codes in a map. If we do not find it, we fall back to a general code for the organ in primary_diagnosis_site.\n",
    "The code also shows counts of terms that have yet to be mapped to prioritize curation. This should easily be doable for ten datasets.\n",
    "\n",
    "For convenience, I am using a downloaded file \"merged_cervix_disease.tsv\" here, but that is identical with the merged tables we get from \n",
    "```\n",
    "cohort_name = \"cervix cancer cohort\"\n",
    "query = 'treatment_anatomic_site = \"Cervix\"'\n",
    "Tsite = Q('treatment_anatomic_site = \"Cervix\"')\n",
    "tableImporter = CdaTableImporter(cohort_name=cohort_name, query_obj=Tsite);\n",
    "merged_df = tableImporter.get_merged_diagnosis_research_subject_df();\n",
    "```"
   ]
  },
  {
   "cell_type": "code",
   "execution_count": 6,
   "metadata": {},
   "outputs": [],
   "source": [
    "import pandas as pd\n",
    "from oncoexporter.cda.mapper import OpDiagnosisMapper\n",
    "from collections import defaultdict"
   ]
  },
  {
   "cell_type": "code",
   "execution_count": 7,
   "metadata": {},
   "outputs": [
    {
     "data": {
      "text/html": [
       "<div>\n",
       "<style scoped>\n",
       "    .dataframe tbody tr th:only-of-type {\n",
       "        vertical-align: middle;\n",
       "    }\n",
       "\n",
       "    .dataframe tbody tr th {\n",
       "        vertical-align: top;\n",
       "    }\n",
       "\n",
       "    .dataframe thead th {\n",
       "        text-align: right;\n",
       "    }\n",
       "</style>\n",
       "<table border=\"1\" class=\"dataframe\">\n",
       "  <thead>\n",
       "    <tr style=\"text-align: right;\">\n",
       "      <th></th>\n",
       "      <th>Unnamed: 0</th>\n",
       "      <th>diagnosis_id</th>\n",
       "      <th>diagnosis_identifier</th>\n",
       "      <th>primary_diagnosis</th>\n",
       "      <th>age_at_diagnosis</th>\n",
       "      <th>morphology</th>\n",
       "      <th>stage</th>\n",
       "      <th>grade</th>\n",
       "      <th>method_of_diagnosis</th>\n",
       "      <th>subject_id_di</th>\n",
       "      <th>researchsubject_id</th>\n",
       "      <th>researchsubject_identifier</th>\n",
       "      <th>member_of_research_project</th>\n",
       "      <th>primary_diagnosis_condition</th>\n",
       "      <th>primary_diagnosis_site</th>\n",
       "      <th>subject_id_rs</th>\n",
       "    </tr>\n",
       "  </thead>\n",
       "  <tbody>\n",
       "    <tr>\n",
       "      <th>0</th>\n",
       "      <td>0</td>\n",
       "      <td>CGCI-HTMCP-CC.HTMCP-03-06-02423.HTMCP-03-06-02...</td>\n",
       "      <td>[{'system': 'GDC', 'field_name': 'case.diagnos...</td>\n",
       "      <td>Squamous cell carcinoma, nonkeratinizing, NOS</td>\n",
       "      <td>NaN</td>\n",
       "      <td>8072/3</td>\n",
       "      <td>NaN</td>\n",
       "      <td>G2</td>\n",
       "      <td>Biopsy</td>\n",
       "      <td>CGCI.HTMCP-03-06-02423</td>\n",
       "      <td>CGCI-HTMCP-CC.HTMCP-03-06-02423</td>\n",
       "      <td>[{'system': 'GDC', 'field_name': 'case.case_id...</td>\n",
       "      <td>CGCI-HTMCP-CC</td>\n",
       "      <td>Squamous Cell Neoplasms</td>\n",
       "      <td>Cervix uteri</td>\n",
       "      <td>CGCI.HTMCP-03-06-02423</td>\n",
       "    </tr>\n",
       "    <tr>\n",
       "      <th>1</th>\n",
       "      <td>1</td>\n",
       "      <td>CGCI-HTMCP-CC.HTMCP-03-06-02238.HTMCP-03-06-02...</td>\n",
       "      <td>[{'system': 'GDC', 'field_name': 'case.diagnos...</td>\n",
       "      <td>Squamous cell carcinoma, keratinizing, NOS</td>\n",
       "      <td>14943.0</td>\n",
       "      <td>8071/3</td>\n",
       "      <td>NaN</td>\n",
       "      <td>G2</td>\n",
       "      <td>Biopsy</td>\n",
       "      <td>CGCI.HTMCP-03-06-02238</td>\n",
       "      <td>CGCI-HTMCP-CC.HTMCP-03-06-02238</td>\n",
       "      <td>[{'system': 'GDC', 'field_name': 'case.case_id...</td>\n",
       "      <td>CGCI-HTMCP-CC</td>\n",
       "      <td>Squamous Cell Neoplasms</td>\n",
       "      <td>Cervix uteri</td>\n",
       "      <td>CGCI.HTMCP-03-06-02238</td>\n",
       "    </tr>\n",
       "  </tbody>\n",
       "</table>\n",
       "</div>"
      ],
      "text/plain": [
       "   Unnamed: 0                                       diagnosis_id  \\\n",
       "0           0  CGCI-HTMCP-CC.HTMCP-03-06-02423.HTMCP-03-06-02...   \n",
       "1           1  CGCI-HTMCP-CC.HTMCP-03-06-02238.HTMCP-03-06-02...   \n",
       "\n",
       "                                diagnosis_identifier  \\\n",
       "0  [{'system': 'GDC', 'field_name': 'case.diagnos...   \n",
       "1  [{'system': 'GDC', 'field_name': 'case.diagnos...   \n",
       "\n",
       "                               primary_diagnosis  age_at_diagnosis morphology  \\\n",
       "0  Squamous cell carcinoma, nonkeratinizing, NOS               NaN     8072/3   \n",
       "1     Squamous cell carcinoma, keratinizing, NOS           14943.0     8071/3   \n",
       "\n",
       "   stage grade method_of_diagnosis           subject_id_di  \\\n",
       "0    NaN    G2              Biopsy  CGCI.HTMCP-03-06-02423   \n",
       "1    NaN    G2              Biopsy  CGCI.HTMCP-03-06-02238   \n",
       "\n",
       "                researchsubject_id  \\\n",
       "0  CGCI-HTMCP-CC.HTMCP-03-06-02423   \n",
       "1  CGCI-HTMCP-CC.HTMCP-03-06-02238   \n",
       "\n",
       "                          researchsubject_identifier  \\\n",
       "0  [{'system': 'GDC', 'field_name': 'case.case_id...   \n",
       "1  [{'system': 'GDC', 'field_name': 'case.case_id...   \n",
       "\n",
       "  member_of_research_project primary_diagnosis_condition  \\\n",
       "0              CGCI-HTMCP-CC     Squamous Cell Neoplasms   \n",
       "1              CGCI-HTMCP-CC     Squamous Cell Neoplasms   \n",
       "\n",
       "  primary_diagnosis_site           subject_id_rs  \n",
       "0           Cervix uteri  CGCI.HTMCP-03-06-02423  \n",
       "1           Cervix uteri  CGCI.HTMCP-03-06-02238  "
      ]
     },
     "execution_count": 7,
     "metadata": {},
     "output_type": "execute_result"
    }
   ],
   "source": [
    "df = pd.read_csv(\"merged_cervix_disease.tsv\", sep=\"\\t\")\n",
    "df.head(2)"
   ]
  },
  {
   "cell_type": "markdown",
   "metadata": {},
   "source": [
    "# OpDiagnosisMapper\n"
   ]
  },
  {
   "cell_type": "code",
   "execution_count": 8,
   "metadata": {},
   "outputs": [],
   "source": [
    "dxMapper = OpDiagnosisMapper()"
   ]
  },
  {
   "cell_type": "code",
   "execution_count": 9,
   "metadata": {},
   "outputs": [
    {
     "data": {
      "text/html": [
       "<pre style=\"white-space:pre;overflow-x:auto;line-height:normal;font-family:Menlo,'DejaVu Sans Mono',consolas,'Courier New',monospace\">Cervical Non-Keratinizing Squamous Cell <span style=\"color: #800080; text-decoration-color: #800080; font-weight: bold\">Carcinoma</span><span style=\"font-weight: bold\">(</span>NCIT:C40188<span style=\"font-weight: bold\">)</span>: <span style=\"color: #808000; text-decoration-color: #808000\">n</span>=<span style=\"color: #008080; text-decoration-color: #008080; font-weight: bold\">57</span>\n",
       "</pre>\n"
      ],
      "text/plain": [
       "Cervical Non-Keratinizing Squamous Cell \u001b[1;35mCarcinoma\u001b[0m\u001b[1m(\u001b[0mNCIT:C40188\u001b[1m)\u001b[0m: \u001b[33mn\u001b[0m=\u001b[1;36m57\u001b[0m\n"
      ]
     },
     "metadata": {},
     "output_type": "display_data"
    },
    {
     "data": {
      "text/html": [
       "<pre style=\"white-space:pre;overflow-x:auto;line-height:normal;font-family:Menlo,'DejaVu Sans Mono',consolas,'Courier New',monospace\">Cervical Keratinizing Squamous Cell <span style=\"color: #800080; text-decoration-color: #800080; font-weight: bold\">Carcinoma</span><span style=\"font-weight: bold\">(</span>NCIT:C40187<span style=\"font-weight: bold\">)</span>: <span style=\"color: #808000; text-decoration-color: #808000\">n</span>=<span style=\"color: #008080; text-decoration-color: #008080; font-weight: bold\">20</span>\n",
       "</pre>\n"
      ],
      "text/plain": [
       "Cervical Keratinizing Squamous Cell \u001b[1;35mCarcinoma\u001b[0m\u001b[1m(\u001b[0mNCIT:C40187\u001b[1m)\u001b[0m: \u001b[33mn\u001b[0m=\u001b[1;36m20\u001b[0m\n"
      ]
     },
     "metadata": {},
     "output_type": "display_data"
    },
    {
     "data": {
      "text/html": [
       "<pre style=\"white-space:pre;overflow-x:auto;line-height:normal;font-family:Menlo,'DejaVu Sans Mono',consolas,'Courier New',monospace\">Cervical <span style=\"color: #800080; text-decoration-color: #800080; font-weight: bold\">Neoplasm</span><span style=\"font-weight: bold\">(</span>NCIT:C2940<span style=\"font-weight: bold\">)</span>: <span style=\"color: #808000; text-decoration-color: #808000\">n</span>=<span style=\"color: #008080; text-decoration-color: #008080; font-weight: bold\">8</span>\n",
       "</pre>\n"
      ],
      "text/plain": [
       "Cervical \u001b[1;35mNeoplasm\u001b[0m\u001b[1m(\u001b[0mNCIT:C2940\u001b[1m)\u001b[0m: \u001b[33mn\u001b[0m=\u001b[1;36m8\u001b[0m\n"
      ]
     },
     "metadata": {},
     "output_type": "display_data"
    }
   ],
   "source": [
    "term_count_d = defaultdict(int)\n",
    "id_to_label = {}\n",
    "for _, row in df.iterrows():\n",
    "    ncit_term = dxMapper.get_ontology_term(row)\n",
    "    term_count_d[ncit_term.id] += 1\n",
    "    id_to_label[ncit_term.id] = ncit_term.label\n",
    "for k,v in term_count_d.items():\n",
    "    label = id_to_label.get(k)\n",
    "    print(f\"{label}({k}): n={v}\")"
   ]
  },
  {
   "cell_type": "markdown",
   "metadata": {},
   "source": [
    "# The following prints a summary of diseases we have not mapped yet"
   ]
  },
  {
   "cell_type": "code",
   "execution_count": 10,
   "metadata": {},
   "outputs": [
    {
     "data": {
      "text/html": [
       "<div>\n",
       "<style scoped>\n",
       "    .dataframe tbody tr th:only-of-type {\n",
       "        vertical-align: middle;\n",
       "    }\n",
       "\n",
       "    .dataframe tbody tr th {\n",
       "        vertical-align: top;\n",
       "    }\n",
       "\n",
       "    .dataframe thead th {\n",
       "        text-align: right;\n",
       "    }\n",
       "</style>\n",
       "<table border=\"1\" class=\"dataframe\">\n",
       "  <thead>\n",
       "    <tr style=\"text-align: right;\">\n",
       "      <th></th>\n",
       "      <th>primary_diagnosis</th>\n",
       "      <th>primary_diagnosis_condition</th>\n",
       "      <th>primary_diagnosis_site</th>\n",
       "      <th>count</th>\n",
       "    </tr>\n",
       "  </thead>\n",
       "  <tbody>\n",
       "    <tr>\n",
       "      <th>0</th>\n",
       "      <td>Adenocarcinoma, NOS</td>\n",
       "      <td>Adenomas and Adenocarcinomas</td>\n",
       "      <td>Cervix uteri</td>\n",
       "      <td>7</td>\n",
       "    </tr>\n",
       "    <tr>\n",
       "      <th>1</th>\n",
       "      <td>Basaloid squamous cell carcinoma</td>\n",
       "      <td>Squamous Cell Neoplasms</td>\n",
       "      <td>Cervix uteri</td>\n",
       "      <td>1</td>\n",
       "    </tr>\n",
       "  </tbody>\n",
       "</table>\n",
       "</div>"
      ],
      "text/plain": [
       "                  primary_diagnosis   primary_diagnosis_condition  \\\n",
       "0               Adenocarcinoma, NOS  Adenomas and Adenocarcinomas   \n",
       "1  Basaloid squamous cell carcinoma       Squamous Cell Neoplasms   \n",
       "\n",
       "  primary_diagnosis_site count  \n",
       "0           Cervix uteri     7  \n",
       "1           Cervix uteri     1  "
      ]
     },
     "execution_count": 10,
     "metadata": {},
     "output_type": "execute_result"
    }
   ],
   "source": [
    "dxMapper.get_error_df()"
   ]
  },
  {
   "cell_type": "code",
   "execution_count": null,
   "metadata": {},
   "outputs": [],
   "source": []
  }
 ],
 "metadata": {
  "kernelspec": {
   "display_name": "Python 3 (ipykernel)",
   "language": "python",
   "name": "python3"
  },
  "language_info": {
   "codemirror_mode": {
    "name": "ipython",
    "version": 3
   },
   "file_extension": ".py",
   "mimetype": "text/x-python",
   "name": "python",
   "nbconvert_exporter": "python",
   "pygments_lexer": "ipython3",
   "version": "3.8.10"
  }
 },
 "nbformat": 4,
 "nbformat_minor": 4
}
