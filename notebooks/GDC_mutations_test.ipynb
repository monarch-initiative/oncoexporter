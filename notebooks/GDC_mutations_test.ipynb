{
 "cells": [
  {
   "cell_type": "code",
   "execution_count": 25,
   "metadata": {},
   "outputs": [
    {
     "data": {
      "text/plain": [
       "'TCGA-05-4250'"
      ]
     },
     "execution_count": 25,
     "metadata": {},
     "output_type": "execute_result"
    }
   ],
   "source": [
    " '''       {\n",
    "            \"op\": \"in\",\n",
    "            \"content\": {\n",
    "                \"field\": \"case.available_variation_data\",\n",
    "                \"value\": [\n",
    "                    \"ssm\"\n",
    "                ]\n",
    "            }\n",
    "        },\n",
    "'''\n",
    "import re\n",
    "string = 'TCGA.TCGA-05-4250'\n",
    "string = 'TCGA-05-4250'\n",
    "re.sub(\"^[^.]+\\.\", \"\", string) # ^(.*?)\\..*   ^[^.]*\n"
   ]
  }
 ],
 "metadata": {
  "kernelspec": {
   "display_name": "Phenopackets",
   "language": "python",
   "name": "python3"
  },
  "language_info": {
   "codemirror_mode": {
    "name": "ipython",
    "version": 3
   },
   "file_extension": ".py",
   "mimetype": "text/x-python",
   "name": "python",
   "nbconvert_exporter": "python",
   "pygments_lexer": "ipython3",
   "version": "3.11.8"
  }
 },
 "nbformat": 4,
 "nbformat_minor": 2
}
