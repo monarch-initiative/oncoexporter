{
 "cells": [
  {
   "cell_type": "markdown",
   "id": "5df0c687-b73c-41fc-881e-e11bf3491662",
   "metadata": {},
   "source": [
    "<h1>GA4GH Disease</h1>\n",
    "<p>This notebook demonstrates how to use the oncopacket Python package to create GA4GH Disease messages from Cancer Data Aggregator (CDA) data.\n",
    "We first extract data about a disease diagnoses in a CDA cohort and then use the package to create the GA4GH Disease messages.</p>\n",
    "<p>The data is extracted from the <tt>diagnosis</tt> and <tt>researchsubject</tt> tables of CDA.</p>"
   ]
  },
  {
   "cell_type": "code",
   "execution_count": 1,
   "id": "6d06a90b-6160-4006-95ed-70f110e87129",
   "metadata": {},
   "outputs": [
    {
     "ename": "ModuleNotFoundError",
     "evalue": "No module named 'oncoexporter.model.simple_ontology_term'",
     "output_type": "error",
     "traceback": [
      "\u001b[0;31m---------------------------------------------------------------------------\u001b[0m",
      "\u001b[0;31mModuleNotFoundError\u001b[0m                       Traceback (most recent call last)",
      "Cell \u001b[0;32mIn[1], line 1\u001b[0m\n\u001b[0;32m----> 1\u001b[0m \u001b[38;5;28;01mfrom\u001b[39;00m \u001b[38;5;21;01moncoexporter\u001b[39;00m\u001b[38;5;21;01m.\u001b[39;00m\u001b[38;5;21;01mcda\u001b[39;00m \u001b[38;5;28;01mimport\u001b[39;00m CdaTableImporter, CdaDiseaseFactory\n\u001b[1;32m      2\u001b[0m \u001b[38;5;28;01mfrom\u001b[39;00m \u001b[38;5;21;01mcollections\u001b[39;00m \u001b[38;5;28;01mimport\u001b[39;00m defaultdict\n",
      "File \u001b[0;32m~/GIT/oncoexporter/src/oncoexporter/__init__.py:7\u001b[0m\n\u001b[1;32m      1\u001b[0m \u001b[38;5;124;03m\"\"\"\u001b[39;00m\n\u001b[1;32m      2\u001b[0m \u001b[38;5;124;03moncoexporter is a library for transforming National Cancer Institute (NCI) data into phenopackets.\u001b[39;00m\n\u001b[1;32m      3\u001b[0m \u001b[38;5;124;03m\"\"\"\u001b[39;00m\n\u001b[1;32m      5\u001b[0m __version__ \u001b[38;5;241m=\u001b[39m \u001b[38;5;124m'\u001b[39m\u001b[38;5;124m0.0.4\u001b[39m\u001b[38;5;124m'\u001b[39m\n\u001b[0;32m----> 7\u001b[0m \u001b[38;5;28;01mfrom\u001b[39;00m \u001b[38;5;21;01m.\u001b[39;00m\u001b[38;5;21;01mcda\u001b[39;00m\u001b[38;5;21;01m.\u001b[39;00m\u001b[38;5;21;01mcda_individual_factory\u001b[39;00m \u001b[38;5;28;01mimport\u001b[39;00m CdaIndividualFactory\n\u001b[1;32m      8\u001b[0m \u001b[38;5;28;01mfrom\u001b[39;00m \u001b[38;5;21;01m.\u001b[39;00m\u001b[38;5;21;01mcda\u001b[39;00m\u001b[38;5;21;01m.\u001b[39;00m\u001b[38;5;21;01mcda_biosample_factory\u001b[39;00m \u001b[38;5;28;01mimport\u001b[39;00m CdaBiosampleFactory\n\u001b[1;32m     10\u001b[0m __all__ \u001b[38;5;241m=\u001b[39m [\n\u001b[1;32m     11\u001b[0m     \u001b[38;5;124m'\u001b[39m\u001b[38;5;124mCdaIndividualFactory\u001b[39m\u001b[38;5;124m'\u001b[39m\n\u001b[1;32m     12\u001b[0m ]\n",
      "File \u001b[0;32m~/GIT/oncoexporter/src/oncoexporter/cda/__init__.py:1\u001b[0m\n\u001b[0;32m----> 1\u001b[0m \u001b[38;5;28;01mfrom\u001b[39;00m \u001b[38;5;21;01m.\u001b[39;00m\u001b[38;5;21;01mcda_disease_factory\u001b[39;00m \u001b[38;5;28;01mimport\u001b[39;00m CdaDiseaseFactory\n\u001b[1;32m      2\u001b[0m \u001b[38;5;28;01mfrom\u001b[39;00m \u001b[38;5;21;01m.\u001b[39;00m\u001b[38;5;21;01mcda_factory\u001b[39;00m \u001b[38;5;28;01mimport\u001b[39;00m CdaFactory\n\u001b[1;32m      3\u001b[0m \u001b[38;5;28;01mfrom\u001b[39;00m \u001b[38;5;21;01m.\u001b[39;00m\u001b[38;5;21;01mcda_individual_factory\u001b[39;00m \u001b[38;5;28;01mimport\u001b[39;00m CdaIndividualFactory\n",
      "File \u001b[0;32m~/GIT/oncoexporter/src/oncoexporter/cda/cda_disease_factory.py:14\u001b[0m\n\u001b[1;32m     11\u001b[0m \u001b[38;5;28;01mfrom\u001b[39;00m \u001b[38;5;21;01moncoexporter\u001b[39;00m\u001b[38;5;21;01m.\u001b[39;00m\u001b[38;5;21;01mmodel\u001b[39;00m\u001b[38;5;21;01m.\u001b[39;00m\u001b[38;5;21;01mop_disease\u001b[39;00m \u001b[38;5;28;01mimport\u001b[39;00m OpDisease\n\u001b[1;32m     13\u001b[0m \u001b[38;5;28;01mfrom\u001b[39;00m \u001b[38;5;21;01m.\u001b[39;00m\u001b[38;5;21;01mmapper\u001b[39;00m\u001b[38;5;21;01m.\u001b[39;00m\u001b[38;5;21;01mop_mapper\u001b[39;00m \u001b[38;5;28;01mimport\u001b[39;00m OpMapper\n\u001b[0;32m---> 14\u001b[0m \u001b[38;5;28;01mfrom\u001b[39;00m \u001b[38;5;21;01m.\u001b[39;00m\u001b[38;5;21;01mmapper\u001b[39;00m\u001b[38;5;21;01m.\u001b[39;00m\u001b[38;5;21;01mop_diagnosis_mapper\u001b[39;00m \u001b[38;5;28;01mimport\u001b[39;00m OpDiagnosisMapper\n\u001b[1;32m     15\u001b[0m \u001b[38;5;28;01mfrom\u001b[39;00m \u001b[38;5;21;01m.\u001b[39;00m\u001b[38;5;21;01mcda_factory\u001b[39;00m \u001b[38;5;28;01mimport\u001b[39;00m CdaFactory\n\u001b[1;32m     18\u001b[0m \u001b[38;5;28;01mclass\u001b[39;00m \u001b[38;5;21;01mCdaDiseaseFactory\u001b[39;00m(CdaFactory):\n",
      "File \u001b[0;32m~/GIT/oncoexporter/src/oncoexporter/cda/mapper/op_diagnosis_mapper.py:5\u001b[0m\n\u001b[1;32m      3\u001b[0m \u001b[38;5;28;01mfrom\u001b[39;00m \u001b[38;5;21;01m.\u001b[39;00m\u001b[38;5;21;01mop_mapper\u001b[39;00m \u001b[38;5;28;01mimport\u001b[39;00m OpMapper\n\u001b[1;32m      4\u001b[0m \u001b[38;5;28;01mfrom\u001b[39;00m \u001b[38;5;21;01m.\u001b[39;00m\u001b[38;5;21;01mmap_entry\u001b[39;00m \u001b[38;5;28;01mimport\u001b[39;00m MapEntry\n\u001b[0;32m----> 5\u001b[0m \u001b[38;5;28;01mfrom\u001b[39;00m \u001b[38;5;21;01m.\u001b[39;00m\u001b[38;5;21;01m.\u001b[39;00m\u001b[38;5;21;01m.\u001b[39;00m\u001b[38;5;21;01mmodel\u001b[39;00m\u001b[38;5;21;01m.\u001b[39;00m\u001b[38;5;21;01msimple_ontology_term\u001b[39;00m \u001b[38;5;28;01mimport\u001b[39;00m SimpleOntologyTerm\n\u001b[1;32m      6\u001b[0m \u001b[38;5;28;01mfrom\u001b[39;00m \u001b[38;5;21;01mtyping\u001b[39;00m \u001b[38;5;28;01mimport\u001b[39;00m Optional\n\u001b[1;32m      7\u001b[0m \u001b[38;5;28;01mimport\u001b[39;00m \u001b[38;5;21;01mpandas\u001b[39;00m \u001b[38;5;28;01mas\u001b[39;00m \u001b[38;5;21;01mpd\u001b[39;00m\n",
      "\u001b[0;31mModuleNotFoundError\u001b[0m: No module named 'oncoexporter.model.simple_ontology_term'"
     ]
    }
   ],
   "source": [
    "from oncoexporter.cda import CdaTableImporter, CdaDiseaseFactory\n",
    "from collections import defaultdict"
   ]
  },
  {
   "cell_type": "code",
   "execution_count": 2,
   "id": "bde37c22-fe38-444e-982e-1302c08841bc",
   "metadata": {},
   "outputs": [],
   "source": [
    "from cdapython import ( Q, set_default_project_dataset, set_host_url, set_table_version )\n",
    "\n",
    "set_default_project_dataset(\"gdc-bq-sample.dev\")\n",
    "set_host_url(\"http://35.192.60.10:8080/\")\n",
    "set_table_version(\"all_merged_subjects_v3_2_final\")"
   ]
  },
  {
   "cell_type": "markdown",
   "metadata": {},
   "source": [
    "# Set up the oncoexporter CdaTableImporter and retrieve the disease datafrom from CDA\n",
    "This hides some of the complexities of the CDA code"
   ]
  },
  {
   "cell_type": "code",
   "execution_count": 3,
   "id": "3f8d9f3f-8082-4b7f-937f-722d3a33fd83",
   "metadata": {},
   "outputs": [
    {
     "data": {
      "text/html": [
       "<pre style=\"white-space:pre;overflow-x:auto;line-height:normal;font-family:Menlo,'DejaVu Sans Mono',consolas,'Courier New',monospace\">Retrieving dataframe .cervix cancer cohort_diagnosis_df.pkl\n",
       "</pre>\n"
      ],
      "text/plain": [
       "Retrieving dataframe .cervix cancer cohort_diagnosis_df.pkl\n"
      ]
     },
     "metadata": {},
     "output_type": "display_data"
    },
    {
     "data": {
      "text/html": [
       "<pre style=\"white-space:pre;overflow-x:auto;line-height:normal;font-family:Menlo,'DejaVu Sans Mono',consolas,'Courier New',monospace\">calling CDA function\n",
       "</pre>\n"
      ],
      "text/plain": [
       "calling CDA function\n"
      ]
     },
     "metadata": {},
     "output_type": "display_data"
    },
    {
     "data": {
      "text/html": [
       "<pre style=\"white-space:pre;overflow-x:auto;line-height:normal;font-family:Menlo,'DejaVu Sans Mono',consolas,'Courier New',monospace\">Getting <span style=\"color: #008080; text-decoration-color: #008080; font-weight: bold\">10000</span> results from database \n",
       "\n",
       "</pre>\n"
      ],
      "text/plain": [
       "Getting \u001b[1;36m10000\u001b[0m results from database \n",
       "\n"
      ]
     },
     "metadata": {},
     "output_type": "display_data"
    },
    {
     "data": {
      "text/html": [
       "<pre style=\"white-space:pre;overflow-x:auto;line-height:normal;font-family:Menlo,'DejaVu Sans Mono',consolas,'Courier New',monospace\">\n",
       "                            Total execution time: <span style=\"color: #008080; text-decoration-color: #008080; font-weight: bold\">0</span>\n",
       "                            min <span style=\"color: #008080; text-decoration-color: #008080; font-weight: bold\">5.263</span> sec <span style=\"color: #008080; text-decoration-color: #008080; font-weight: bold\">5263</span> ms\n",
       "                            \n",
       "</pre>\n"
      ],
      "text/plain": [
       "\n",
       "                            Total execution time: \u001b[1;36m0\u001b[0m\n",
       "                            min \u001b[1;36m5.263\u001b[0m sec \u001b[1;36m5263\u001b[0m ms\n",
       "                            \n"
      ]
     },
     "metadata": {},
     "output_type": "display_data"
    },
    {
     "data": {
      "text/html": [
       "<pre style=\"white-space:pre;overflow-x:auto;line-height:normal;font-family:Menlo,'DejaVu Sans Mono',consolas,'Courier New',monospace\"></pre>\n"
      ],
      "text/plain": [
       "\u001b[?1049h\u001b[H"
      ]
     },
     "metadata": {},
     "output_type": "display_data"
    },
    {
     "data": {
      "text/html": [
       "<pre style=\"white-space:pre;overflow-x:auto;line-height:normal;font-family:Menlo,'DejaVu Sans Mono',consolas,'Courier New',monospace\"></pre>\n"
      ],
      "text/plain": [
       "\u001b[?25l"
      ]
     },
     "metadata": {},
     "output_type": "display_data"
    },
    {
     "data": {
      "application/vnd.jupyter.widget-view+json": {
       "model_id": "5f178737d99b4980ba4a570ba3da2058",
       "version_major": 2,
       "version_minor": 0
      },
      "text/plain": [
       "Output()"
      ]
     },
     "metadata": {},
     "output_type": "display_data"
    },
    {
     "data": {
      "text/html": [
       "<pre style=\"white-space:pre;overflow-x:auto;line-height:normal;font-family:Menlo,'DejaVu Sans Mono',consolas,'Courier New',monospace\"></pre>\n"
      ],
      "text/plain": [
       "\u001b[?25h\u001b[?1049l"
      ]
     },
     "metadata": {},
     "output_type": "display_data"
    },
    {
     "data": {
      "text/html": [
       "<pre style=\"white-space:pre;overflow-x:auto;line-height:normal;font-family:Menlo,'DejaVu Sans Mono',consolas,'Courier New',monospace\">obtained diagnosis_df\n",
       "</pre>\n"
      ],
      "text/plain": [
       "obtained diagnosis_df\n"
      ]
     },
     "metadata": {},
     "output_type": "display_data"
    },
    {
     "data": {
      "text/html": [
       "<pre style=\"white-space:pre;overflow-x:auto;line-height:normal;font-family:Menlo,'DejaVu Sans Mono',consolas,'Courier New',monospace\">Retrieving dataframe .cervix cancer cohort_rsub_df.pkl\n",
       "</pre>\n"
      ],
      "text/plain": [
       "Retrieving dataframe .cervix cancer cohort_rsub_df.pkl\n"
      ]
     },
     "metadata": {},
     "output_type": "display_data"
    },
    {
     "data": {
      "text/html": [
       "<pre style=\"white-space:pre;overflow-x:auto;line-height:normal;font-family:Menlo,'DejaVu Sans Mono',consolas,'Courier New',monospace\">calling CDA function\n",
       "</pre>\n"
      ],
      "text/plain": [
       "calling CDA function\n"
      ]
     },
     "metadata": {},
     "output_type": "display_data"
    },
    {
     "data": {
      "text/html": [
       "<pre style=\"white-space:pre;overflow-x:auto;line-height:normal;font-family:Menlo,'DejaVu Sans Mono',consolas,'Courier New',monospace\">Getting <span style=\"color: #008080; text-decoration-color: #008080; font-weight: bold\">10000</span> results from database \n",
       "\n",
       "</pre>\n"
      ],
      "text/plain": [
       "Getting \u001b[1;36m10000\u001b[0m results from database \n",
       "\n"
      ]
     },
     "metadata": {},
     "output_type": "display_data"
    },
    {
     "data": {
      "text/html": [
       "<pre style=\"white-space:pre;overflow-x:auto;line-height:normal;font-family:Menlo,'DejaVu Sans Mono',consolas,'Courier New',monospace\">\n",
       "                            Total execution time: <span style=\"color: #008080; text-decoration-color: #008080; font-weight: bold\">0</span>\n",
       "                            min <span style=\"color: #008080; text-decoration-color: #008080; font-weight: bold\">4.435</span> sec <span style=\"color: #008080; text-decoration-color: #008080; font-weight: bold\">4435</span> ms\n",
       "                            \n",
       "</pre>\n"
      ],
      "text/plain": [
       "\n",
       "                            Total execution time: \u001b[1;36m0\u001b[0m\n",
       "                            min \u001b[1;36m4.435\u001b[0m sec \u001b[1;36m4435\u001b[0m ms\n",
       "                            \n"
      ]
     },
     "metadata": {},
     "output_type": "display_data"
    },
    {
     "data": {
      "text/html": [
       "<pre style=\"white-space:pre;overflow-x:auto;line-height:normal;font-family:Menlo,'DejaVu Sans Mono',consolas,'Courier New',monospace\"></pre>\n"
      ],
      "text/plain": [
       "\u001b[?1049h\u001b[H"
      ]
     },
     "metadata": {},
     "output_type": "display_data"
    },
    {
     "data": {
      "text/html": [
       "<pre style=\"white-space:pre;overflow-x:auto;line-height:normal;font-family:Menlo,'DejaVu Sans Mono',consolas,'Courier New',monospace\"></pre>\n"
      ],
      "text/plain": [
       "\u001b[?25l"
      ]
     },
     "metadata": {},
     "output_type": "display_data"
    },
    {
     "data": {
      "application/vnd.jupyter.widget-view+json": {
       "model_id": "432df736098a415f8dcde9396954ad0b",
       "version_major": 2,
       "version_minor": 0
      },
      "text/plain": [
       "Output()"
      ]
     },
     "metadata": {},
     "output_type": "display_data"
    },
    {
     "data": {
      "text/html": [
       "<pre style=\"white-space:pre;overflow-x:auto;line-height:normal;font-family:Menlo,'DejaVu Sans Mono',consolas,'Courier New',monospace\"></pre>\n"
      ],
      "text/plain": [
       "\u001b[?25h\u001b[?1049l"
      ]
     },
     "metadata": {},
     "output_type": "display_data"
    },
    {
     "data": {
      "text/html": [
       "<pre style=\"white-space:pre;overflow-x:auto;line-height:normal;font-family:Menlo,'DejaVu Sans Mono',consolas,'Courier New',monospace\">obtained rsub_df\n",
       "</pre>\n"
      ],
      "text/plain": [
       "obtained rsub_df\n"
      ]
     },
     "metadata": {},
     "output_type": "display_data"
    }
   ],
   "source": [
    "cohort_name = \"cervix cancer cohort\"\n",
    "query = 'treatment_anatomic_site = \"Cervix\"'\n",
    "Tsite = Q('treatment_anatomic_site = \"Cervix\"')\n",
    "tableImporter = CdaTableImporter(cohort_name=cohort_name, query_obj=Tsite);\n",
    "merged_df = tableImporter.get_merged_diagnosis_research_subject_df();"
   ]
  },
  {
   "cell_type": "code",
   "execution_count": 4,
   "id": "93d6248e-932b-483e-9964-c90aa24f2690",
   "metadata": {},
   "outputs": [
    {
     "data": {
      "text/html": [
       "<div>\n",
       "<style scoped>\n",
       "    .dataframe tbody tr th:only-of-type {\n",
       "        vertical-align: middle;\n",
       "    }\n",
       "\n",
       "    .dataframe tbody tr th {\n",
       "        vertical-align: top;\n",
       "    }\n",
       "\n",
       "    .dataframe thead th {\n",
       "        text-align: right;\n",
       "    }\n",
       "</style>\n",
       "<table border=\"1\" class=\"dataframe\">\n",
       "  <thead>\n",
       "    <tr style=\"text-align: right;\">\n",
       "      <th></th>\n",
       "      <th>diagnosis_id</th>\n",
       "      <th>diagnosis_identifier</th>\n",
       "      <th>primary_diagnosis</th>\n",
       "      <th>age_at_diagnosis</th>\n",
       "      <th>morphology</th>\n",
       "      <th>stage</th>\n",
       "      <th>grade</th>\n",
       "      <th>method_of_diagnosis</th>\n",
       "      <th>subject_id_di</th>\n",
       "      <th>researchsubject_id</th>\n",
       "      <th>researchsubject_identifier</th>\n",
       "      <th>member_of_research_project</th>\n",
       "      <th>primary_diagnosis_condition</th>\n",
       "      <th>primary_diagnosis_site</th>\n",
       "      <th>subject_id_rs</th>\n",
       "    </tr>\n",
       "  </thead>\n",
       "  <tbody>\n",
       "    <tr>\n",
       "      <th>0</th>\n",
       "      <td>CGCI-HTMCP-CC.HTMCP-03-06-02442.HTMCP-03-06-02...</td>\n",
       "      <td>[{'system': 'GDC', 'field_name': 'case.diagnos...</td>\n",
       "      <td>Squamous cell carcinoma, nonkeratinizing, NOS</td>\n",
       "      <td>16606.0</td>\n",
       "      <td>8072/3</td>\n",
       "      <td>None</td>\n",
       "      <td>G3</td>\n",
       "      <td>None</td>\n",
       "      <td>CGCI.HTMCP-03-06-02442</td>\n",
       "      <td>CGCI-HTMCP-CC.HTMCP-03-06-02442</td>\n",
       "      <td>[{'system': 'GDC', 'field_name': 'case.case_id...</td>\n",
       "      <td>CGCI-HTMCP-CC</td>\n",
       "      <td>Squamous Cell Neoplasms</td>\n",
       "      <td>Cervix uteri</td>\n",
       "      <td>CGCI.HTMCP-03-06-02442</td>\n",
       "    </tr>\n",
       "    <tr>\n",
       "      <th>1</th>\n",
       "      <td>CGCI-HTMCP-CC.HTMCP-03-06-02107.HTMCP-03-06-02...</td>\n",
       "      <td>[{'system': 'GDC', 'field_name': 'case.diagnos...</td>\n",
       "      <td>Squamous cell carcinoma, nonkeratinizing, NOS</td>\n",
       "      <td>NaN</td>\n",
       "      <td>8072/3</td>\n",
       "      <td>None</td>\n",
       "      <td>G3</td>\n",
       "      <td>Biopsy</td>\n",
       "      <td>CGCI.HTMCP-03-06-02107</td>\n",
       "      <td>CGCI-HTMCP-CC.HTMCP-03-06-02107</td>\n",
       "      <td>[{'system': 'GDC', 'field_name': 'case.case_id...</td>\n",
       "      <td>CGCI-HTMCP-CC</td>\n",
       "      <td>Squamous Cell Neoplasms</td>\n",
       "      <td>Cervix uteri</td>\n",
       "      <td>CGCI.HTMCP-03-06-02107</td>\n",
       "    </tr>\n",
       "    <tr>\n",
       "      <th>2</th>\n",
       "      <td>CGCI-HTMCP-CC.HTMCP-03-06-02156.HTMCP-03-06-02...</td>\n",
       "      <td>[{'system': 'GDC', 'field_name': 'case.diagnos...</td>\n",
       "      <td>Squamous cell carcinoma, keratinizing, NOS</td>\n",
       "      <td>24831.0</td>\n",
       "      <td>8071/3</td>\n",
       "      <td>None</td>\n",
       "      <td>G3</td>\n",
       "      <td>Biopsy</td>\n",
       "      <td>CGCI.HTMCP-03-06-02156</td>\n",
       "      <td>CGCI-HTMCP-CC.HTMCP-03-06-02156</td>\n",
       "      <td>[{'system': 'GDC', 'field_name': 'case.case_id...</td>\n",
       "      <td>CGCI-HTMCP-CC</td>\n",
       "      <td>Squamous Cell Neoplasms</td>\n",
       "      <td>Cervix uteri</td>\n",
       "      <td>CGCI.HTMCP-03-06-02156</td>\n",
       "    </tr>\n",
       "    <tr>\n",
       "      <th>3</th>\n",
       "      <td>CGCI-HTMCP-CC.HTMCP-03-06-02400.HTMCP-03-06-02...</td>\n",
       "      <td>[{'system': 'GDC', 'field_name': 'case.diagnos...</td>\n",
       "      <td>Squamous cell carcinoma, nonkeratinizing, NOS</td>\n",
       "      <td>21833.0</td>\n",
       "      <td>8072/3</td>\n",
       "      <td>None</td>\n",
       "      <td>G3</td>\n",
       "      <td>Biopsy</td>\n",
       "      <td>CGCI.HTMCP-03-06-02400</td>\n",
       "      <td>CGCI-HTMCP-CC.HTMCP-03-06-02400</td>\n",
       "      <td>[{'system': 'GDC', 'field_name': 'case.case_id...</td>\n",
       "      <td>CGCI-HTMCP-CC</td>\n",
       "      <td>Squamous Cell Neoplasms</td>\n",
       "      <td>Cervix uteri</td>\n",
       "      <td>CGCI.HTMCP-03-06-02400</td>\n",
       "    </tr>\n",
       "    <tr>\n",
       "      <th>4</th>\n",
       "      <td>CGCI-HTMCP-CC.HTMCP-03-06-02101.HTMCP-03-06-02...</td>\n",
       "      <td>[{'system': 'GDC', 'field_name': 'case.diagnos...</td>\n",
       "      <td>Squamous cell carcinoma, nonkeratinizing, NOS</td>\n",
       "      <td>NaN</td>\n",
       "      <td>8072/3</td>\n",
       "      <td>None</td>\n",
       "      <td>G3</td>\n",
       "      <td>Biopsy</td>\n",
       "      <td>CGCI.HTMCP-03-06-02101</td>\n",
       "      <td>CGCI-HTMCP-CC.HTMCP-03-06-02101</td>\n",
       "      <td>[{'system': 'GDC', 'field_name': 'case.case_id...</td>\n",
       "      <td>CGCI-HTMCP-CC</td>\n",
       "      <td>Squamous Cell Neoplasms</td>\n",
       "      <td>Cervix uteri</td>\n",
       "      <td>CGCI.HTMCP-03-06-02101</td>\n",
       "    </tr>\n",
       "  </tbody>\n",
       "</table>\n",
       "</div>"
      ],
      "text/plain": [
       "                                        diagnosis_id  \\\n",
       "0  CGCI-HTMCP-CC.HTMCP-03-06-02442.HTMCP-03-06-02...   \n",
       "1  CGCI-HTMCP-CC.HTMCP-03-06-02107.HTMCP-03-06-02...   \n",
       "2  CGCI-HTMCP-CC.HTMCP-03-06-02156.HTMCP-03-06-02...   \n",
       "3  CGCI-HTMCP-CC.HTMCP-03-06-02400.HTMCP-03-06-02...   \n",
       "4  CGCI-HTMCP-CC.HTMCP-03-06-02101.HTMCP-03-06-02...   \n",
       "\n",
       "                                diagnosis_identifier  \\\n",
       "0  [{'system': 'GDC', 'field_name': 'case.diagnos...   \n",
       "1  [{'system': 'GDC', 'field_name': 'case.diagnos...   \n",
       "2  [{'system': 'GDC', 'field_name': 'case.diagnos...   \n",
       "3  [{'system': 'GDC', 'field_name': 'case.diagnos...   \n",
       "4  [{'system': 'GDC', 'field_name': 'case.diagnos...   \n",
       "\n",
       "                               primary_diagnosis  age_at_diagnosis morphology  \\\n",
       "0  Squamous cell carcinoma, nonkeratinizing, NOS           16606.0     8072/3   \n",
       "1  Squamous cell carcinoma, nonkeratinizing, NOS               NaN     8072/3   \n",
       "2     Squamous cell carcinoma, keratinizing, NOS           24831.0     8071/3   \n",
       "3  Squamous cell carcinoma, nonkeratinizing, NOS           21833.0     8072/3   \n",
       "4  Squamous cell carcinoma, nonkeratinizing, NOS               NaN     8072/3   \n",
       "\n",
       "  stage grade method_of_diagnosis           subject_id_di  \\\n",
       "0  None    G3                None  CGCI.HTMCP-03-06-02442   \n",
       "1  None    G3              Biopsy  CGCI.HTMCP-03-06-02107   \n",
       "2  None    G3              Biopsy  CGCI.HTMCP-03-06-02156   \n",
       "3  None    G3              Biopsy  CGCI.HTMCP-03-06-02400   \n",
       "4  None    G3              Biopsy  CGCI.HTMCP-03-06-02101   \n",
       "\n",
       "                researchsubject_id  \\\n",
       "0  CGCI-HTMCP-CC.HTMCP-03-06-02442   \n",
       "1  CGCI-HTMCP-CC.HTMCP-03-06-02107   \n",
       "2  CGCI-HTMCP-CC.HTMCP-03-06-02156   \n",
       "3  CGCI-HTMCP-CC.HTMCP-03-06-02400   \n",
       "4  CGCI-HTMCP-CC.HTMCP-03-06-02101   \n",
       "\n",
       "                          researchsubject_identifier  \\\n",
       "0  [{'system': 'GDC', 'field_name': 'case.case_id...   \n",
       "1  [{'system': 'GDC', 'field_name': 'case.case_id...   \n",
       "2  [{'system': 'GDC', 'field_name': 'case.case_id...   \n",
       "3  [{'system': 'GDC', 'field_name': 'case.case_id...   \n",
       "4  [{'system': 'GDC', 'field_name': 'case.case_id...   \n",
       "\n",
       "  member_of_research_project primary_diagnosis_condition  \\\n",
       "0              CGCI-HTMCP-CC     Squamous Cell Neoplasms   \n",
       "1              CGCI-HTMCP-CC     Squamous Cell Neoplasms   \n",
       "2              CGCI-HTMCP-CC     Squamous Cell Neoplasms   \n",
       "3              CGCI-HTMCP-CC     Squamous Cell Neoplasms   \n",
       "4              CGCI-HTMCP-CC     Squamous Cell Neoplasms   \n",
       "\n",
       "  primary_diagnosis_site           subject_id_rs  \n",
       "0           Cervix uteri  CGCI.HTMCP-03-06-02442  \n",
       "1           Cervix uteri  CGCI.HTMCP-03-06-02107  \n",
       "2           Cervix uteri  CGCI.HTMCP-03-06-02156  \n",
       "3           Cervix uteri  CGCI.HTMCP-03-06-02400  \n",
       "4           Cervix uteri  CGCI.HTMCP-03-06-02101  "
      ]
     },
     "execution_count": 4,
     "metadata": {},
     "output_type": "execute_result"
    }
   ],
   "source": [
    "merged_df.head()"
   ]
  },
  {
   "cell_type": "code",
   "execution_count": 6,
   "id": "c5597269-fc38-4f57-8c51-fad56ded3ce9",
   "metadata": {},
   "outputs": [
    {
     "data": {
      "text/html": [
       "<pre style=\"white-space:pre;overflow-x:auto;line-height:normal;font-family:Menlo,'DejaVu Sans Mono',consolas,'Courier New',monospace\">We extracted <span style=\"color: #008080; text-decoration-color: #008080; font-weight: bold\">85</span> GA4GH Phenopacket Disease messages\n",
       "</pre>\n"
      ],
      "text/plain": [
       "We extracted \u001b[1;36m85\u001b[0m GA4GH Phenopacket Disease messages\n"
      ]
     },
     "metadata": {},
     "output_type": "display_data"
    }
   ],
   "source": [
    "disease_factory = CdaDiseaseFactory()\n",
    "ga4gh_disease_messages = []\n",
    "for _, row in merged_df.iterrows():\n",
    "    ga4gh_disease_messages.append(disease_factory.to_ga4gh(row=row))\n",
    "print(f\"We extracted {len(ga4gh_disease_messages)} GA4GH Phenopacket Disease messages\")"
   ]
  },
  {
   "cell_type": "code",
   "execution_count": 7,
   "metadata": {},
   "outputs": [
    {
     "name": "stdout",
     "output_type": "stream",
     "text": [
      "'{\\n  \"term\": {\\n    \"id\": \"NCIT:C3262\",\\n    \"label\": \"Neoplasm\"\\n  }\\n}'\n"
     ]
    }
   ],
   "source": [
    "from google.protobuf.json_format import MessageToJson\n",
    "from pprint import pprint\n",
    "json_string = MessageToJson(ga4gh_disease_messages[0])\n",
    "pprint(json_string)"
   ]
  },
  {
   "cell_type": "code",
   "execution_count": 4,
   "metadata": {},
   "outputs": [],
   "source": [
    "merged_df.to_csv(\"merged_cervix_disease.tsv\", sep=\"\\t\")"
   ]
  }
 ],
 "metadata": {
  "kernelspec": {
   "display_name": "Python 3 (ipykernel)",
   "language": "python",
   "name": "python3"
  },
  "language_info": {
   "codemirror_mode": {
    "name": "ipython",
    "version": 3
   },
   "file_extension": ".py",
   "mimetype": "text/x-python",
   "name": "python",
   "nbconvert_exporter": "python",
   "pygments_lexer": "ipython3",
   "version": "3.8.10"
  }
 },
 "nbformat": 4,
 "nbformat_minor": 5
}
