{
 "cells": [
  {
   "cell_type": "code",
   "execution_count": 1,
   "metadata": {},
   "outputs": [],
   "source": [
    "import pandas as pd\n",
    "import glob\n",
    "import os"
   ]
  },
  {
   "cell_type": "code",
   "execution_count": 2,
   "metadata": {},
   "outputs": [],
   "source": [
    "base_path = '../../src/fetch_tissue_data/.oncoexporter_cache/'\n",
    "glob_pattern = os.path.join(base_path, '**', '*')\n",
    "files = glob.glob(glob_pattern, recursive=True)"
   ]
  },
  {
   "cell_type": "code",
   "execution_count": 3,
   "metadata": {},
   "outputs": [],
   "source": [
    "keyword = 'Liver'\n",
    "dataframes = {}\n",
    "\n",
    "for file in files:\n",
    "    if keyword in file:\n",
    "        df_name = file.split('/')[-1].replace('.pkl', '').replace('_df', '').replace(f'{keyword}_', '')\n",
    "        dataframes[df_name] = pd.read_pickle(file)"
   ]
  },
  {
   "cell_type": "code",
   "execution_count": 4,
   "metadata": {},
   "outputs": [
    {
     "name": "stdout",
     "output_type": "stream",
     "text": [
      "All required keys are present.\n"
     ]
    }
   ],
   "source": [
    "required_keys = ['mutation', 'diagnosis', 'individual', 'rsub', 'specimen', 'treatment']\n",
    "missing_keys = [key for key in required_keys if key not in dataframes]\n",
    "\n",
    "if missing_keys:\n",
    "    print(f\"Missing dataframes for keys: {missing_keys}\")\n",
    "else:\n",
    "    print(\"All required keys are present.\")"
   ]
  },
  {
   "cell_type": "markdown",
   "metadata": {},
   "source": [
    "## Step 1: Merge diagnosis and individual dataframes"
   ]
  },
  {
   "cell_type": "code",
   "execution_count": 5,
   "metadata": {},
   "outputs": [],
   "source": [
    "merged_df = pd.merge(dataframes['diagnosis'], dataframes['individual'], on='subject_id', how='left', suffixes=('_diag', '_ind'))"
   ]
  },
  {
   "cell_type": "markdown",
   "metadata": {},
   "source": [
    "## Step 2: Merge with research subject dataframe"
   ]
  },
  {
   "cell_type": "code",
   "execution_count": 6,
   "metadata": {},
   "outputs": [],
   "source": [
    "merged_df = pd.merge(merged_df, dataframes['rsub'], on='researchsubject_id', how='left', suffixes=('', '_rsub'))"
   ]
  },
  {
   "cell_type": "markdown",
   "metadata": {},
   "source": [
    "## Step 3: Merge with specimen dataframe"
   ]
  },
  {
   "cell_type": "code",
   "execution_count": 7,
   "metadata": {},
   "outputs": [],
   "source": [
    "merged_df = pd.merge(merged_df, dataframes['specimen'], on='researchsubject_id', how='left', suffixes=('', '_spec'))"
   ]
  },
  {
   "cell_type": "markdown",
   "metadata": {},
   "source": [
    "## Step 4: Merge with treatment dataframe"
   ]
  },
  {
   "cell_type": "code",
   "execution_count": 8,
   "metadata": {},
   "outputs": [],
   "source": [
    "merged_df = pd.merge(merged_df, dataframes['treatment'], on='researchsubject_id', how='left', suffixes=('', '_treat'))"
   ]
  },
  {
   "cell_type": "markdown",
   "metadata": {},
   "source": [
    "## Step 5: Merge with mutation dataframe"
   ]
  },
  {
   "cell_type": "code",
   "execution_count": 9,
   "metadata": {},
   "outputs": [],
   "source": [
    "merged_df = pd.merge(merged_df, dataframes['mutation'], left_on='subject_id', right_on='cda_subject_id', how='left', suffixes=('', '_mut'))"
   ]
  },
  {
   "cell_type": "markdown",
   "metadata": {},
   "source": [
    "## Get unique rows based on certain columns"
   ]
  },
  {
   "cell_type": "code",
   "execution_count": 10,
   "metadata": {},
   "outputs": [],
   "source": [
    "unique_rows_df = merged_df.drop_duplicates(subset=['primary_diagnosis', 'primary_diagnosis_condition', 'primary_diagnosis_site']).reset_index(drop=True)[['primary_diagnosis', 'primary_diagnosis_condition', 'primary_diagnosis_site']]"
   ]
  },
  {
   "cell_type": "code",
   "execution_count": 11,
   "metadata": {},
   "outputs": [
    {
     "data": {
      "text/html": [
       "<div>\n",
       "<style scoped>\n",
       "    .dataframe tbody tr th:only-of-type {\n",
       "        vertical-align: middle;\n",
       "    }\n",
       "\n",
       "    .dataframe tbody tr th {\n",
       "        vertical-align: top;\n",
       "    }\n",
       "\n",
       "    .dataframe thead th {\n",
       "        text-align: right;\n",
       "    }\n",
       "</style>\n",
       "<table border=\"1\" class=\"dataframe\">\n",
       "  <thead>\n",
       "    <tr style=\"text-align: right;\">\n",
       "      <th></th>\n",
       "      <th>primary_diagnosis</th>\n",
       "      <th>primary_diagnosis_condition</th>\n",
       "      <th>primary_diagnosis_site</th>\n",
       "    </tr>\n",
       "  </thead>\n",
       "  <tbody>\n",
       "    <tr>\n",
       "      <th>0</th>\n",
       "      <td>Malignant rhabdoid tumor</td>\n",
       "      <td>Complex Mixed and Stromal Neoplasms</td>\n",
       "      <td>Liver and intrahepatic bile ducts</td>\n",
       "    </tr>\n",
       "    <tr>\n",
       "      <th>1</th>\n",
       "      <td>Clear cell adenocarcinoma, NOS</td>\n",
       "      <td>Adenomas and Adenocarcinomas</td>\n",
       "      <td>Liver and intrahepatic bile ducts</td>\n",
       "    </tr>\n",
       "    <tr>\n",
       "      <th>2</th>\n",
       "      <td>Not specified in data</td>\n",
       "      <td>Sarcoma, NOS</td>\n",
       "      <td>Liver</td>\n",
       "    </tr>\n",
       "    <tr>\n",
       "      <th>3</th>\n",
       "      <td>Hepatocellular carcinoma, clear cell type</td>\n",
       "      <td>Adenomas and Adenocarcinomas</td>\n",
       "      <td>Liver and intrahepatic bile ducts</td>\n",
       "    </tr>\n",
       "    <tr>\n",
       "      <th>4</th>\n",
       "      <td>Neuroblastoma, NOS</td>\n",
       "      <td>Neuroepitheliomatous Neoplasms</td>\n",
       "      <td>Liver and intrahepatic bile ducts</td>\n",
       "    </tr>\n",
       "    <tr>\n",
       "      <th>5</th>\n",
       "      <td>Kupffer cell sarcoma</td>\n",
       "      <td>Blood Vessel Tumors</td>\n",
       "      <td>Liver and intrahepatic bile ducts</td>\n",
       "    </tr>\n",
       "    <tr>\n",
       "      <th>6</th>\n",
       "      <td>Not specified in data</td>\n",
       "      <td>Embryonal sarcoma</td>\n",
       "      <td>Liver</td>\n",
       "    </tr>\n",
       "    <tr>\n",
       "      <th>7</th>\n",
       "      <td>Embryonal Rhabdomyosarcoma</td>\n",
       "      <td>Embryonal sarcoma</td>\n",
       "      <td>Liver</td>\n",
       "    </tr>\n",
       "    <tr>\n",
       "      <th>8</th>\n",
       "      <td>Adenocarcinoma, NOS</td>\n",
       "      <td>Adenomas and Adenocarcinomas</td>\n",
       "      <td>Liver and intrahepatic bile ducts</td>\n",
       "    </tr>\n",
       "    <tr>\n",
       "      <th>9</th>\n",
       "      <td>Hepatocellular carcinoma, spindle cell variant</td>\n",
       "      <td>Adenomas and Adenocarcinomas</td>\n",
       "      <td>Liver and intrahepatic bile ducts</td>\n",
       "    </tr>\n",
       "    <tr>\n",
       "      <th>10</th>\n",
       "      <td>None</td>\n",
       "      <td>Hepatocellular Carcinoma</td>\n",
       "      <td>Liver</td>\n",
       "    </tr>\n",
       "    <tr>\n",
       "      <th>11</th>\n",
       "      <td>Neuroblastoma</td>\n",
       "      <td>Neuroblastoma, NOS</td>\n",
       "      <td>Liver</td>\n",
       "    </tr>\n",
       "    <tr>\n",
       "      <th>12</th>\n",
       "      <td>Hepatoblastoma</td>\n",
       "      <td>Complex Mixed and Stromal Neoplasms</td>\n",
       "      <td>Liver and intrahepatic bile ducts</td>\n",
       "    </tr>\n",
       "    <tr>\n",
       "      <th>13</th>\n",
       "      <td>Hepatoblastoma</td>\n",
       "      <td>Miscellaneous Tumors</td>\n",
       "      <td>Liver and intrahepatic bile ducts</td>\n",
       "    </tr>\n",
       "    <tr>\n",
       "      <th>14</th>\n",
       "      <td>Cholangiocarcinoma</td>\n",
       "      <td>Adenomas and Adenocarcinomas</td>\n",
       "      <td>Liver and intrahepatic bile ducts</td>\n",
       "    </tr>\n",
       "    <tr>\n",
       "      <th>15</th>\n",
       "      <td>Hepatocellular carcinoma, NOS</td>\n",
       "      <td>Adenomas and Adenocarcinomas</td>\n",
       "      <td>Liver and intrahepatic bile ducts</td>\n",
       "    </tr>\n",
       "    <tr>\n",
       "      <th>16</th>\n",
       "      <td>Hepatocellular carcinoma, fibrolamellar</td>\n",
       "      <td>Adenomas and Adenocarcinomas</td>\n",
       "      <td>Liver and intrahepatic bile ducts</td>\n",
       "    </tr>\n",
       "    <tr>\n",
       "      <th>17</th>\n",
       "      <td>Combined hepatocellular carcinoma and cholangi...</td>\n",
       "      <td>Adenomas and Adenocarcinomas</td>\n",
       "      <td>Liver and intrahepatic bile ducts</td>\n",
       "    </tr>\n",
       "  </tbody>\n",
       "</table>\n",
       "</div>"
      ],
      "text/plain": [
       "                                    primary_diagnosis  \\\n",
       "0                            Malignant rhabdoid tumor   \n",
       "1                      Clear cell adenocarcinoma, NOS   \n",
       "2                               Not specified in data   \n",
       "3           Hepatocellular carcinoma, clear cell type   \n",
       "4                                  Neuroblastoma, NOS   \n",
       "5                                Kupffer cell sarcoma   \n",
       "6                               Not specified in data   \n",
       "7                          Embryonal Rhabdomyosarcoma   \n",
       "8                                 Adenocarcinoma, NOS   \n",
       "9      Hepatocellular carcinoma, spindle cell variant   \n",
       "10                                               None   \n",
       "11                                      Neuroblastoma   \n",
       "12                                     Hepatoblastoma   \n",
       "13                                     Hepatoblastoma   \n",
       "14                                 Cholangiocarcinoma   \n",
       "15                      Hepatocellular carcinoma, NOS   \n",
       "16            Hepatocellular carcinoma, fibrolamellar   \n",
       "17  Combined hepatocellular carcinoma and cholangi...   \n",
       "\n",
       "            primary_diagnosis_condition             primary_diagnosis_site  \n",
       "0   Complex Mixed and Stromal Neoplasms  Liver and intrahepatic bile ducts  \n",
       "1          Adenomas and Adenocarcinomas  Liver and intrahepatic bile ducts  \n",
       "2                          Sarcoma, NOS                              Liver  \n",
       "3          Adenomas and Adenocarcinomas  Liver and intrahepatic bile ducts  \n",
       "4        Neuroepitheliomatous Neoplasms  Liver and intrahepatic bile ducts  \n",
       "5                   Blood Vessel Tumors  Liver and intrahepatic bile ducts  \n",
       "6                     Embryonal sarcoma                              Liver  \n",
       "7                     Embryonal sarcoma                              Liver  \n",
       "8          Adenomas and Adenocarcinomas  Liver and intrahepatic bile ducts  \n",
       "9          Adenomas and Adenocarcinomas  Liver and intrahepatic bile ducts  \n",
       "10            Hepatocellular Carcinoma                               Liver  \n",
       "11                   Neuroblastoma, NOS                              Liver  \n",
       "12  Complex Mixed and Stromal Neoplasms  Liver and intrahepatic bile ducts  \n",
       "13                 Miscellaneous Tumors  Liver and intrahepatic bile ducts  \n",
       "14         Adenomas and Adenocarcinomas  Liver and intrahepatic bile ducts  \n",
       "15         Adenomas and Adenocarcinomas  Liver and intrahepatic bile ducts  \n",
       "16         Adenomas and Adenocarcinomas  Liver and intrahepatic bile ducts  \n",
       "17         Adenomas and Adenocarcinomas  Liver and intrahepatic bile ducts  "
      ]
     },
     "execution_count": 11,
     "metadata": {},
     "output_type": "execute_result"
    }
   ],
   "source": [
    "unique_rows_df"
   ]
  },
  {
   "cell_type": "code",
   "execution_count": 12,
   "metadata": {},
   "outputs": [],
   "source": [
    "unique_rows_df.to_csv(f'../CombinationsForTissues/results/{keyword}_unique_combination.csv')"
   ]
  },
  {
   "cell_type": "code",
   "execution_count": null,
   "metadata": {},
   "outputs": [],
   "source": []
  },
  {
   "cell_type": "code",
   "execution_count": null,
   "metadata": {},
   "outputs": [],
   "source": []
  }
 ],
 "metadata": {
  "kernelspec": {
   "display_name": "env_3.10",
   "language": "python",
   "name": "python3"
  },
  "language_info": {
   "codemirror_mode": {
    "name": "ipython",
    "version": 3
   },
   "file_extension": ".py",
   "mimetype": "text/x-python",
   "name": "python",
   "nbconvert_exporter": "python",
   "pygments_lexer": "ipython3",
   "version": "3.10.7"
  }
 },
 "nbformat": 4,
 "nbformat_minor": 2
}
