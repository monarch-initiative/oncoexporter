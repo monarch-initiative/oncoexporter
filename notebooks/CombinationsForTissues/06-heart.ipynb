{
 "cells": [
  {
   "cell_type": "code",
   "execution_count": 1,
   "metadata": {},
   "outputs": [],
   "source": [
    "import pandas as pd\n",
    "import glob\n",
    "import os"
   ]
  },
  {
   "cell_type": "code",
   "execution_count": 2,
   "metadata": {},
   "outputs": [],
   "source": [
    "base_path = '../../src/fetch_tissue_data/.oncoexporter_cache/'\n",
    "glob_pattern = os.path.join(base_path, '**', '*')\n",
    "files = glob.glob(glob_pattern, recursive=True)"
   ]
  },
  {
   "cell_type": "code",
   "execution_count": 3,
   "metadata": {},
   "outputs": [],
   "source": [
    "keyword = 'Heart'\n",
    "dataframes = {}\n",
    "\n",
    "for file in files:\n",
    "    if keyword in file:\n",
    "        df_name = file.split('/')[-1].replace('.pkl', '').replace('_df', '').replace(f'{keyword}_', '')\n",
    "        dataframes[df_name] = pd.read_pickle(file)"
   ]
  },
  {
   "cell_type": "code",
   "execution_count": 4,
   "metadata": {},
   "outputs": [
    {
     "name": "stdout",
     "output_type": "stream",
     "text": [
      "All required keys are present.\n"
     ]
    }
   ],
   "source": [
    "required_keys = ['mutation', 'diagnosis', 'individual', 'rsub', 'specimen', 'treatment']\n",
    "missing_keys = [key for key in required_keys if key not in dataframes]\n",
    "\n",
    "if missing_keys:\n",
    "    print(f\"Missing dataframes for keys: {missing_keys}\")\n",
    "else:\n",
    "    print(\"All required keys are present.\")"
   ]
  },
  {
   "cell_type": "markdown",
   "metadata": {},
   "source": [
    "## Step 1: Merge diagnosis and individual dataframes"
   ]
  },
  {
   "cell_type": "code",
   "execution_count": 5,
   "metadata": {},
   "outputs": [],
   "source": [
    "merged_df = pd.merge(dataframes['diagnosis'], dataframes['individual'], on='subject_id', how='left', suffixes=('_diag', '_ind'))"
   ]
  },
  {
   "cell_type": "markdown",
   "metadata": {},
   "source": [
    "## Step 2: Merge with research subject dataframe"
   ]
  },
  {
   "cell_type": "code",
   "execution_count": 6,
   "metadata": {},
   "outputs": [],
   "source": [
    "merged_df = pd.merge(merged_df, dataframes['rsub'], on='researchsubject_id', how='left', suffixes=('', '_rsub'))"
   ]
  },
  {
   "cell_type": "markdown",
   "metadata": {},
   "source": [
    "## Step 3: Merge with specimen dataframe"
   ]
  },
  {
   "cell_type": "code",
   "execution_count": 7,
   "metadata": {},
   "outputs": [],
   "source": [
    "merged_df = pd.merge(merged_df, dataframes['specimen'], on='researchsubject_id', how='left', suffixes=('', '_spec'))"
   ]
  },
  {
   "cell_type": "markdown",
   "metadata": {},
   "source": [
    "## Step 4: Merge with treatment dataframe"
   ]
  },
  {
   "cell_type": "code",
   "execution_count": 8,
   "metadata": {},
   "outputs": [],
   "source": [
    "merged_df = pd.merge(merged_df, dataframes['treatment'], on='researchsubject_id', how='left', suffixes=('', '_treat'))"
   ]
  },
  {
   "cell_type": "markdown",
   "metadata": {},
   "source": [
    "## Step 5: Merge with mutation dataframe"
   ]
  },
  {
   "cell_type": "code",
   "execution_count": 9,
   "metadata": {},
   "outputs": [],
   "source": [
    "merged_df = pd.merge(merged_df, dataframes['mutation'], left_on='subject_id', right_on='cda_subject_id', how='left', suffixes=('', '_mut'))"
   ]
  },
  {
   "cell_type": "markdown",
   "metadata": {},
   "source": [
    "## Get unique rows based on certain columns"
   ]
  },
  {
   "cell_type": "code",
   "execution_count": 10,
   "metadata": {},
   "outputs": [],
   "source": [
    "unique_rows_df = merged_df.drop_duplicates(subset=['primary_diagnosis', 'primary_diagnosis_condition', 'primary_diagnosis_site']).reset_index(drop=True)[['primary_diagnosis', 'primary_diagnosis_condition', 'primary_diagnosis_site']]"
   ]
  },
  {
   "cell_type": "code",
   "execution_count": 11,
   "metadata": {},
   "outputs": [
    {
     "data": {
      "text/html": [
       "<div>\n",
       "<style scoped>\n",
       "    .dataframe tbody tr th:only-of-type {\n",
       "        vertical-align: middle;\n",
       "    }\n",
       "\n",
       "    .dataframe tbody tr th {\n",
       "        vertical-align: top;\n",
       "    }\n",
       "\n",
       "    .dataframe thead th {\n",
       "        text-align: right;\n",
       "    }\n",
       "</style>\n",
       "<table border=\"1\" class=\"dataframe\">\n",
       "  <thead>\n",
       "    <tr style=\"text-align: right;\">\n",
       "      <th></th>\n",
       "      <th>primary_diagnosis</th>\n",
       "      <th>primary_diagnosis_condition</th>\n",
       "      <th>primary_diagnosis_site</th>\n",
       "    </tr>\n",
       "  </thead>\n",
       "  <tbody>\n",
       "    <tr>\n",
       "      <th>0</th>\n",
       "      <td>Germ cell tumor, NOS</td>\n",
       "      <td>Germ Cell Neoplasms</td>\n",
       "      <td>Heart, mediastinum, and pleura</td>\n",
       "    </tr>\n",
       "    <tr>\n",
       "      <th>1</th>\n",
       "      <td>Mesothelioma, NOS</td>\n",
       "      <td>Mesothelial Neoplasms</td>\n",
       "      <td>Heart, mediastinum, and pleura</td>\n",
       "    </tr>\n",
       "    <tr>\n",
       "      <th>2</th>\n",
       "      <td>Epithelioid mesothelioma, malignant</td>\n",
       "      <td>Mesothelial Neoplasms</td>\n",
       "      <td>Heart, mediastinum, and pleura</td>\n",
       "    </tr>\n",
       "    <tr>\n",
       "      <th>3</th>\n",
       "      <td>Mesothelioma, biphasic, malignant</td>\n",
       "      <td>Mesothelial Neoplasms</td>\n",
       "      <td>Heart, mediastinum, and pleura</td>\n",
       "    </tr>\n",
       "    <tr>\n",
       "      <th>4</th>\n",
       "      <td>Mesothelioma, malignant</td>\n",
       "      <td>Mesothelial Neoplasms</td>\n",
       "      <td>Heart, mediastinum, and pleura</td>\n",
       "    </tr>\n",
       "    <tr>\n",
       "      <th>5</th>\n",
       "      <td>Neuroblastoma, NOS</td>\n",
       "      <td>Neuroepitheliomatous Neoplasms</td>\n",
       "      <td>Heart, mediastinum, and pleura</td>\n",
       "    </tr>\n",
       "    <tr>\n",
       "      <th>6</th>\n",
       "      <td>Thymoma, type B2, malignant</td>\n",
       "      <td>Thymic Epithelial Neoplasms</td>\n",
       "      <td>Heart, mediastinum, and pleura</td>\n",
       "    </tr>\n",
       "    <tr>\n",
       "      <th>7</th>\n",
       "      <td>Neuroblastoma</td>\n",
       "      <td>Neuroblastoma, NOS</td>\n",
       "      <td>Heart, mediastinum, and pleura</td>\n",
       "    </tr>\n",
       "    <tr>\n",
       "      <th>8</th>\n",
       "      <td>Thymoma, type A, malignant</td>\n",
       "      <td>Thymic Epithelial Neoplasms</td>\n",
       "      <td>Heart, mediastinum, and pleura</td>\n",
       "    </tr>\n",
       "    <tr>\n",
       "      <th>9</th>\n",
       "      <td>Ganglioneuroblastoma</td>\n",
       "      <td>Neuroepitheliomatous Neoplasms</td>\n",
       "      <td>Heart, mediastinum, and pleura</td>\n",
       "    </tr>\n",
       "    <tr>\n",
       "      <th>10</th>\n",
       "      <td>Thymoma, type AB, NOS</td>\n",
       "      <td>Thymic Epithelial Neoplasms</td>\n",
       "      <td>Heart, mediastinum, and pleura</td>\n",
       "    </tr>\n",
       "    <tr>\n",
       "      <th>11</th>\n",
       "      <td>Thymoma, type AB, malignant</td>\n",
       "      <td>Thymic Epithelial Neoplasms</td>\n",
       "      <td>Heart, mediastinum, and pleura</td>\n",
       "    </tr>\n",
       "    <tr>\n",
       "      <th>12</th>\n",
       "      <td>Desmoplastic/Nodular Medulloblastoma</td>\n",
       "      <td>Sarcoma, NOS</td>\n",
       "      <td>Connective, subcutaneous and other soft tissue...</td>\n",
       "    </tr>\n",
       "    <tr>\n",
       "      <th>13</th>\n",
       "      <td>Not specified in data</td>\n",
       "      <td>Sarcoma, NOS</td>\n",
       "      <td>Connective, subcutaneous and other soft tissue...</td>\n",
       "    </tr>\n",
       "    <tr>\n",
       "      <th>14</th>\n",
       "      <td>Neuroblastoma</td>\n",
       "      <td>Miscellaneous Tumors</td>\n",
       "      <td>Heart, mediastinum, and pleura</td>\n",
       "    </tr>\n",
       "    <tr>\n",
       "      <th>15</th>\n",
       "      <td>Extra-adrenal paraganglioma, malignant</td>\n",
       "      <td>Paragangliomas and Glomus Tumors</td>\n",
       "      <td>Heart, mediastinum, and pleura</td>\n",
       "    </tr>\n",
       "    <tr>\n",
       "      <th>16</th>\n",
       "      <td>Thymoma, type B1, malignant</td>\n",
       "      <td>Thymic Epithelial Neoplasms</td>\n",
       "      <td>Heart, mediastinum, and pleura</td>\n",
       "    </tr>\n",
       "    <tr>\n",
       "      <th>17</th>\n",
       "      <td>Thymoma, type B3, malignant</td>\n",
       "      <td>Thymic Epithelial Neoplasms</td>\n",
       "      <td>Heart, mediastinum, and pleura</td>\n",
       "    </tr>\n",
       "    <tr>\n",
       "      <th>18</th>\n",
       "      <td>Thymic carcinoma, NOS</td>\n",
       "      <td>Thymic Epithelial Neoplasms</td>\n",
       "      <td>Heart, mediastinum, and pleura</td>\n",
       "    </tr>\n",
       "    <tr>\n",
       "      <th>19</th>\n",
       "      <td>Malignant lymphoma, large B-cell, diffuse, NOS</td>\n",
       "      <td>Mature B-Cell Lymphomas</td>\n",
       "      <td>Heart, mediastinum, and pleura</td>\n",
       "    </tr>\n",
       "    <tr>\n",
       "      <th>20</th>\n",
       "      <td>Extra-adrenal paraganglioma, NOS</td>\n",
       "      <td>Paragangliomas and Glomus Tumors</td>\n",
       "      <td>Heart, mediastinum, and pleura</td>\n",
       "    </tr>\n",
       "    <tr>\n",
       "      <th>21</th>\n",
       "      <td>Angiosarcoma</td>\n",
       "      <td>Soft Tissue Tumors and Sarcomas, NOS</td>\n",
       "      <td>Heart, mediastinum, and pleura</td>\n",
       "    </tr>\n",
       "    <tr>\n",
       "      <th>22</th>\n",
       "      <td>Thymoma, type B2, NOS</td>\n",
       "      <td>Thymic Epithelial Neoplasms</td>\n",
       "      <td>Heart, mediastinum, and pleura</td>\n",
       "    </tr>\n",
       "    <tr>\n",
       "      <th>23</th>\n",
       "      <td>Fibrous mesothelioma, malignant</td>\n",
       "      <td>Mesothelial Neoplasms</td>\n",
       "      <td>Heart, mediastinum, and pleura</td>\n",
       "    </tr>\n",
       "    <tr>\n",
       "      <th>24</th>\n",
       "      <td>Not specified in data</td>\n",
       "      <td>Malignant tumor, spindle cell type</td>\n",
       "      <td>Connective, subcutaneous and other soft tissue...</td>\n",
       "    </tr>\n",
       "  </tbody>\n",
       "</table>\n",
       "</div>"
      ],
      "text/plain": [
       "                                 primary_diagnosis  \\\n",
       "0                             Germ cell tumor, NOS   \n",
       "1                                Mesothelioma, NOS   \n",
       "2              Epithelioid mesothelioma, malignant   \n",
       "3                Mesothelioma, biphasic, malignant   \n",
       "4                          Mesothelioma, malignant   \n",
       "5                               Neuroblastoma, NOS   \n",
       "6                      Thymoma, type B2, malignant   \n",
       "7                                    Neuroblastoma   \n",
       "8                       Thymoma, type A, malignant   \n",
       "9                             Ganglioneuroblastoma   \n",
       "10                           Thymoma, type AB, NOS   \n",
       "11                     Thymoma, type AB, malignant   \n",
       "12            Desmoplastic/Nodular Medulloblastoma   \n",
       "13                           Not specified in data   \n",
       "14                                   Neuroblastoma   \n",
       "15          Extra-adrenal paraganglioma, malignant   \n",
       "16                     Thymoma, type B1, malignant   \n",
       "17                     Thymoma, type B3, malignant   \n",
       "18                           Thymic carcinoma, NOS   \n",
       "19  Malignant lymphoma, large B-cell, diffuse, NOS   \n",
       "20                Extra-adrenal paraganglioma, NOS   \n",
       "21                                    Angiosarcoma   \n",
       "22                           Thymoma, type B2, NOS   \n",
       "23                 Fibrous mesothelioma, malignant   \n",
       "24                           Not specified in data   \n",
       "\n",
       "             primary_diagnosis_condition  \\\n",
       "0                    Germ Cell Neoplasms   \n",
       "1                  Mesothelial Neoplasms   \n",
       "2                  Mesothelial Neoplasms   \n",
       "3                  Mesothelial Neoplasms   \n",
       "4                  Mesothelial Neoplasms   \n",
       "5         Neuroepitheliomatous Neoplasms   \n",
       "6            Thymic Epithelial Neoplasms   \n",
       "7                     Neuroblastoma, NOS   \n",
       "8            Thymic Epithelial Neoplasms   \n",
       "9         Neuroepitheliomatous Neoplasms   \n",
       "10           Thymic Epithelial Neoplasms   \n",
       "11           Thymic Epithelial Neoplasms   \n",
       "12                          Sarcoma, NOS   \n",
       "13                          Sarcoma, NOS   \n",
       "14                  Miscellaneous Tumors   \n",
       "15      Paragangliomas and Glomus Tumors   \n",
       "16           Thymic Epithelial Neoplasms   \n",
       "17           Thymic Epithelial Neoplasms   \n",
       "18           Thymic Epithelial Neoplasms   \n",
       "19               Mature B-Cell Lymphomas   \n",
       "20      Paragangliomas and Glomus Tumors   \n",
       "21  Soft Tissue Tumors and Sarcomas, NOS   \n",
       "22           Thymic Epithelial Neoplasms   \n",
       "23                 Mesothelial Neoplasms   \n",
       "24    Malignant tumor, spindle cell type   \n",
       "\n",
       "                               primary_diagnosis_site  \n",
       "0                      Heart, mediastinum, and pleura  \n",
       "1                      Heart, mediastinum, and pleura  \n",
       "2                      Heart, mediastinum, and pleura  \n",
       "3                      Heart, mediastinum, and pleura  \n",
       "4                      Heart, mediastinum, and pleura  \n",
       "5                      Heart, mediastinum, and pleura  \n",
       "6                      Heart, mediastinum, and pleura  \n",
       "7                      Heart, mediastinum, and pleura  \n",
       "8                      Heart, mediastinum, and pleura  \n",
       "9                      Heart, mediastinum, and pleura  \n",
       "10                     Heart, mediastinum, and pleura  \n",
       "11                     Heart, mediastinum, and pleura  \n",
       "12  Connective, subcutaneous and other soft tissue...  \n",
       "13  Connective, subcutaneous and other soft tissue...  \n",
       "14                     Heart, mediastinum, and pleura  \n",
       "15                     Heart, mediastinum, and pleura  \n",
       "16                     Heart, mediastinum, and pleura  \n",
       "17                     Heart, mediastinum, and pleura  \n",
       "18                     Heart, mediastinum, and pleura  \n",
       "19                     Heart, mediastinum, and pleura  \n",
       "20                     Heart, mediastinum, and pleura  \n",
       "21                     Heart, mediastinum, and pleura  \n",
       "22                     Heart, mediastinum, and pleura  \n",
       "23                     Heart, mediastinum, and pleura  \n",
       "24  Connective, subcutaneous and other soft tissue...  "
      ]
     },
     "execution_count": 11,
     "metadata": {},
     "output_type": "execute_result"
    }
   ],
   "source": [
    "unique_rows_df"
   ]
  },
  {
   "cell_type": "code",
   "execution_count": 37,
   "metadata": {},
   "outputs": [],
   "source": [
    "unique_rows_df.to_csv(f'../CombinationsForTissues/results/{keyword}_unique_combination.csv')"
   ]
  },
  {
   "cell_type": "code",
   "execution_count": null,
   "metadata": {},
   "outputs": [],
   "source": []
  }
 ],
 "metadata": {
  "kernelspec": {
   "display_name": "env_3.10",
   "language": "python",
   "name": "python3"
  },
  "language_info": {
   "codemirror_mode": {
    "name": "ipython",
    "version": 3
   },
   "file_extension": ".py",
   "mimetype": "text/x-python",
   "name": "python",
   "nbconvert_exporter": "python",
   "pygments_lexer": "ipython3",
   "version": "3.10.7"
  }
 },
 "nbformat": 4,
 "nbformat_minor": 2
}
