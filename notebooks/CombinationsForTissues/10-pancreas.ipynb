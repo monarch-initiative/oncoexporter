{
 "cells": [
  {
   "cell_type": "code",
   "execution_count": 1,
   "metadata": {},
   "outputs": [],
   "source": [
    "import pandas as pd\n",
    "import glob\n",
    "import os"
   ]
  },
  {
   "cell_type": "code",
   "execution_count": 2,
   "metadata": {},
   "outputs": [],
   "source": [
    "base_path = '../../src/fetch_tissue_data/.oncoexporter_cache/'\n",
    "glob_pattern = os.path.join(base_path, '**', '*')\n",
    "files = glob.glob(glob_pattern, recursive=True)"
   ]
  },
  {
   "cell_type": "code",
   "execution_count": 3,
   "metadata": {},
   "outputs": [],
   "source": [
    "keyword = 'Pancreas'\n",
    "dataframes = {}\n",
    "\n",
    "for file in files:\n",
    "    if keyword in file:\n",
    "        df_name = file.split('/')[-1].replace('.pkl', '').replace('_df', '').replace(f'{keyword}_', '')\n",
    "        dataframes[df_name] = pd.read_pickle(file)"
   ]
  },
  {
   "cell_type": "code",
   "execution_count": 4,
   "metadata": {},
   "outputs": [
    {
     "name": "stdout",
     "output_type": "stream",
     "text": [
      "All required keys are present.\n"
     ]
    }
   ],
   "source": [
    "required_keys = ['mutation', 'diagnosis', 'individual', 'rsub', 'specimen', 'treatment']\n",
    "missing_keys = [key for key in required_keys if key not in dataframes]\n",
    "\n",
    "if missing_keys:\n",
    "    print(f\"Missing dataframes for keys: {missing_keys}\")\n",
    "else:\n",
    "    print(\"All required keys are present.\")"
   ]
  },
  {
   "cell_type": "markdown",
   "metadata": {},
   "source": [
    "## Step 1: Merge diagnosis and individual dataframes"
   ]
  },
  {
   "cell_type": "code",
   "execution_count": 5,
   "metadata": {},
   "outputs": [],
   "source": [
    "merged_df = pd.merge(dataframes['diagnosis'], dataframes['individual'], on='subject_id', how='left', suffixes=('_diag', '_ind'))"
   ]
  },
  {
   "cell_type": "markdown",
   "metadata": {},
   "source": [
    "## Step 2: Merge with research subject dataframe"
   ]
  },
  {
   "cell_type": "code",
   "execution_count": 6,
   "metadata": {},
   "outputs": [],
   "source": [
    "merged_df = pd.merge(merged_df, dataframes['rsub'], on='researchsubject_id', how='left', suffixes=('', '_rsub'))"
   ]
  },
  {
   "cell_type": "markdown",
   "metadata": {},
   "source": [
    "## Step 3: Merge with specimen dataframe"
   ]
  },
  {
   "cell_type": "code",
   "execution_count": 7,
   "metadata": {},
   "outputs": [],
   "source": [
    "merged_df = pd.merge(merged_df, dataframes['specimen'], on='researchsubject_id', how='left', suffixes=('', '_spec'))"
   ]
  },
  {
   "cell_type": "markdown",
   "metadata": {},
   "source": [
    "## Step 4: Merge with treatment dataframe"
   ]
  },
  {
   "cell_type": "code",
   "execution_count": 8,
   "metadata": {},
   "outputs": [],
   "source": [
    "merged_df = pd.merge(merged_df, dataframes['treatment'], on='researchsubject_id', how='left', suffixes=('', '_treat'))"
   ]
  },
  {
   "cell_type": "markdown",
   "metadata": {},
   "source": [
    "## Step 5: Merge with mutation dataframe"
   ]
  },
  {
   "cell_type": "code",
   "execution_count": 9,
   "metadata": {},
   "outputs": [],
   "source": [
    "merged_df = pd.merge(merged_df, dataframes['mutation'], left_on='subject_id', right_on='cda_subject_id', how='left', suffixes=('', '_mut'))"
   ]
  },
  {
   "cell_type": "markdown",
   "metadata": {},
   "source": [
    "## Get unique rows based on certain columns"
   ]
  },
  {
   "cell_type": "code",
   "execution_count": 10,
   "metadata": {},
   "outputs": [],
   "source": [
    "unique_rows_df = merged_df.drop_duplicates(subset=['primary_diagnosis', 'primary_diagnosis_condition', 'primary_diagnosis_site']).reset_index(drop=True)[['primary_diagnosis', 'primary_diagnosis_condition', 'primary_diagnosis_site']]"
   ]
  },
  {
   "cell_type": "code",
   "execution_count": 11,
   "metadata": {},
   "outputs": [
    {
     "data": {
      "text/html": [
       "<div>\n",
       "<style scoped>\n",
       "    .dataframe tbody tr th:only-of-type {\n",
       "        vertical-align: middle;\n",
       "    }\n",
       "\n",
       "    .dataframe tbody tr th {\n",
       "        vertical-align: top;\n",
       "    }\n",
       "\n",
       "    .dataframe thead th {\n",
       "        text-align: right;\n",
       "    }\n",
       "</style>\n",
       "<table border=\"1\" class=\"dataframe\">\n",
       "  <thead>\n",
       "    <tr style=\"text-align: right;\">\n",
       "      <th></th>\n",
       "      <th>primary_diagnosis</th>\n",
       "      <th>primary_diagnosis_condition</th>\n",
       "      <th>primary_diagnosis_site</th>\n",
       "    </tr>\n",
       "  </thead>\n",
       "  <tbody>\n",
       "    <tr>\n",
       "      <th>0</th>\n",
       "      <td>Infiltrating duct carcinoma, NOS</td>\n",
       "      <td>Ductal and Lobular Neoplasms</td>\n",
       "      <td>Pancreas</td>\n",
       "    </tr>\n",
       "    <tr>\n",
       "      <th>1</th>\n",
       "      <td>Carcinoma, NOS</td>\n",
       "      <td>Epithelial Neoplasms, NOS</td>\n",
       "      <td>Pancreas</td>\n",
       "    </tr>\n",
       "    <tr>\n",
       "      <th>2</th>\n",
       "      <td>Duct adenocarcinoma, NOS</td>\n",
       "      <td>Ductal and Lobular Neoplasms</td>\n",
       "      <td>Pancreas</td>\n",
       "    </tr>\n",
       "    <tr>\n",
       "      <th>3</th>\n",
       "      <td>Neuroendocrine carcinoma, NOS</td>\n",
       "      <td>Adenomas and Adenocarcinomas</td>\n",
       "      <td>Pancreas</td>\n",
       "    </tr>\n",
       "    <tr>\n",
       "      <th>4</th>\n",
       "      <td>Adenocarcinoma, NOS</td>\n",
       "      <td>Adenomas and Adenocarcinomas</td>\n",
       "      <td>Pancreas</td>\n",
       "    </tr>\n",
       "    <tr>\n",
       "      <th>5</th>\n",
       "      <td>Pancreatic endocrine tumor, NOS</td>\n",
       "      <td>Adenomas and Adenocarcinomas</td>\n",
       "      <td>Pancreas</td>\n",
       "    </tr>\n",
       "    <tr>\n",
       "      <th>6</th>\n",
       "      <td>Solid pseudopapillary tumor</td>\n",
       "      <td>Cystic, Mucinous and Serous Neoplasms</td>\n",
       "      <td>Pancreas</td>\n",
       "    </tr>\n",
       "    <tr>\n",
       "      <th>7</th>\n",
       "      <td>Pancreatic endocrine tumor, malignant</td>\n",
       "      <td>Pancreatic Ductal Adenocarcinoma</td>\n",
       "      <td>Pancreas</td>\n",
       "    </tr>\n",
       "    <tr>\n",
       "      <th>8</th>\n",
       "      <td>Infiltrating duct carcinoma, NOS</td>\n",
       "      <td>Pancreatic Ductal Adenocarcinoma</td>\n",
       "      <td>Pancreas</td>\n",
       "    </tr>\n",
       "    <tr>\n",
       "      <th>9</th>\n",
       "      <td>Pancreatoblastoma</td>\n",
       "      <td>Complex Mixed and Stromal Neoplasms</td>\n",
       "      <td>Pancreas</td>\n",
       "    </tr>\n",
       "    <tr>\n",
       "      <th>10</th>\n",
       "      <td>Unknown</td>\n",
       "      <td>Unknown</td>\n",
       "      <td>Pancreas</td>\n",
       "    </tr>\n",
       "    <tr>\n",
       "      <th>11</th>\n",
       "      <td>Intraductal papillary-mucinous carcinoma, inva...</td>\n",
       "      <td>Cystic, Mucinous and Serous Neoplasms</td>\n",
       "      <td>Pancreas</td>\n",
       "    </tr>\n",
       "    <tr>\n",
       "      <th>12</th>\n",
       "      <td>Acinar cell carcinoma</td>\n",
       "      <td>Acinar Cell Neoplasms</td>\n",
       "      <td>Pancreas</td>\n",
       "    </tr>\n",
       "    <tr>\n",
       "      <th>13</th>\n",
       "      <td>Adenosquamous carcinoma</td>\n",
       "      <td>Complex Epithelial Neoplasms</td>\n",
       "      <td>Pancreas</td>\n",
       "    </tr>\n",
       "    <tr>\n",
       "      <th>14</th>\n",
       "      <td>Adenocarcinoma</td>\n",
       "      <td>Epithelial Neoplasm</td>\n",
       "      <td>Pancreas</td>\n",
       "    </tr>\n",
       "    <tr>\n",
       "      <th>15</th>\n",
       "      <td>Carcinoma, undifferentiated, NOS</td>\n",
       "      <td>Epithelial Neoplasms, NOS</td>\n",
       "      <td>Pancreas</td>\n",
       "    </tr>\n",
       "    <tr>\n",
       "      <th>16</th>\n",
       "      <td>Not specified in data</td>\n",
       "      <td>Unknown</td>\n",
       "      <td>Pancreas, Unknown</td>\n",
       "    </tr>\n",
       "    <tr>\n",
       "      <th>17</th>\n",
       "      <td>Duct adenocarcinoma, NOS</td>\n",
       "      <td>Neoplasms, NOS</td>\n",
       "      <td>Pancreas</td>\n",
       "    </tr>\n",
       "    <tr>\n",
       "      <th>18</th>\n",
       "      <td>Adenocarcinoma, NOS</td>\n",
       "      <td>Neoplasms, NOS</td>\n",
       "      <td>Pancreas</td>\n",
       "    </tr>\n",
       "    <tr>\n",
       "      <th>19</th>\n",
       "      <td>Mucinous adenocarcinoma</td>\n",
       "      <td>Cystic, Mucinous and Serous Neoplasms</td>\n",
       "      <td>Pancreas</td>\n",
       "    </tr>\n",
       "    <tr>\n",
       "      <th>20</th>\n",
       "      <td>Not specified in data</td>\n",
       "      <td>Unknown</td>\n",
       "      <td>Pancreas</td>\n",
       "    </tr>\n",
       "    <tr>\n",
       "      <th>21</th>\n",
       "      <td>Not specified in data</td>\n",
       "      <td>Neuroendocrine carcinoma, NOS</td>\n",
       "      <td>Pancreas, NOS</td>\n",
       "    </tr>\n",
       "    <tr>\n",
       "      <th>22</th>\n",
       "      <td>Neoplasm, malignant</td>\n",
       "      <td>Neoplasms, NOS</td>\n",
       "      <td>Pancreas</td>\n",
       "    </tr>\n",
       "    <tr>\n",
       "      <th>23</th>\n",
       "      <td>Mucinous cystadenoma, NOS</td>\n",
       "      <td>Cystic, Mucinous and Serous Neoplasms</td>\n",
       "      <td>Pancreas</td>\n",
       "    </tr>\n",
       "    <tr>\n",
       "      <th>24</th>\n",
       "      <td>Not Reported</td>\n",
       "      <td>Neoplasms, NOS</td>\n",
       "      <td>Pancreas</td>\n",
       "    </tr>\n",
       "    <tr>\n",
       "      <th>25</th>\n",
       "      <td>None</td>\n",
       "      <td>Pancreatic Ductal Adenocarcinoma</td>\n",
       "      <td>Pancreas</td>\n",
       "    </tr>\n",
       "    <tr>\n",
       "      <th>26</th>\n",
       "      <td>Adenocarcinoma with mixed subtypes</td>\n",
       "      <td>Adenomas and Adenocarcinomas</td>\n",
       "      <td>Pancreas</td>\n",
       "    </tr>\n",
       "    <tr>\n",
       "      <th>27</th>\n",
       "      <td>Serous cystadenoma, NOS</td>\n",
       "      <td>Cystic, Mucinous and Serous Neoplasms</td>\n",
       "      <td>Pancreas</td>\n",
       "    </tr>\n",
       "    <tr>\n",
       "      <th>28</th>\n",
       "      <td>Carcinoma, NOS</td>\n",
       "      <td>Adenomas and Adenocarcinomas</td>\n",
       "      <td>Pancreas</td>\n",
       "    </tr>\n",
       "    <tr>\n",
       "      <th>29</th>\n",
       "      <td>Adenocarcinoma, metastatic, NOS</td>\n",
       "      <td>Cystic, Mucinous and Serous Neoplasms</td>\n",
       "      <td>Pancreas</td>\n",
       "    </tr>\n",
       "    <tr>\n",
       "      <th>30</th>\n",
       "      <td>Intraductal papillary-mucinous carcinoma, inva...</td>\n",
       "      <td>Ductal and Lobular Neoplasms</td>\n",
       "      <td>Pancreas</td>\n",
       "    </tr>\n",
       "    <tr>\n",
       "      <th>31</th>\n",
       "      <td>Well differentiated neuroendocrine tumor</td>\n",
       "      <td>Neuroendocrine carcinoma, NOS</td>\n",
       "      <td>Pancreas, NOS</td>\n",
       "    </tr>\n",
       "    <tr>\n",
       "      <th>32</th>\n",
       "      <td>Not specified in data</td>\n",
       "      <td>Adenocarcinoma, metastatic, NOS</td>\n",
       "      <td>Pancreatic duct</td>\n",
       "    </tr>\n",
       "  </tbody>\n",
       "</table>\n",
       "</div>"
      ],
      "text/plain": [
       "                                    primary_diagnosis  \\\n",
       "0                    Infiltrating duct carcinoma, NOS   \n",
       "1                                      Carcinoma, NOS   \n",
       "2                            Duct adenocarcinoma, NOS   \n",
       "3                       Neuroendocrine carcinoma, NOS   \n",
       "4                                 Adenocarcinoma, NOS   \n",
       "5                     Pancreatic endocrine tumor, NOS   \n",
       "6                         Solid pseudopapillary tumor   \n",
       "7               Pancreatic endocrine tumor, malignant   \n",
       "8                    Infiltrating duct carcinoma, NOS   \n",
       "9                                   Pancreatoblastoma   \n",
       "10                                            Unknown   \n",
       "11  Intraductal papillary-mucinous carcinoma, inva...   \n",
       "12                              Acinar cell carcinoma   \n",
       "13                            Adenosquamous carcinoma   \n",
       "14                                     Adenocarcinoma   \n",
       "15                   Carcinoma, undifferentiated, NOS   \n",
       "16                              Not specified in data   \n",
       "17                           Duct adenocarcinoma, NOS   \n",
       "18                                Adenocarcinoma, NOS   \n",
       "19                            Mucinous adenocarcinoma   \n",
       "20                              Not specified in data   \n",
       "21                              Not specified in data   \n",
       "22                                Neoplasm, malignant   \n",
       "23                          Mucinous cystadenoma, NOS   \n",
       "24                                       Not Reported   \n",
       "25                                               None   \n",
       "26                 Adenocarcinoma with mixed subtypes   \n",
       "27                            Serous cystadenoma, NOS   \n",
       "28                                     Carcinoma, NOS   \n",
       "29                    Adenocarcinoma, metastatic, NOS   \n",
       "30  Intraductal papillary-mucinous carcinoma, inva...   \n",
       "31           Well differentiated neuroendocrine tumor   \n",
       "32                              Not specified in data   \n",
       "\n",
       "              primary_diagnosis_condition primary_diagnosis_site  \n",
       "0            Ductal and Lobular Neoplasms               Pancreas  \n",
       "1               Epithelial Neoplasms, NOS               Pancreas  \n",
       "2            Ductal and Lobular Neoplasms               Pancreas  \n",
       "3            Adenomas and Adenocarcinomas               Pancreas  \n",
       "4            Adenomas and Adenocarcinomas               Pancreas  \n",
       "5            Adenomas and Adenocarcinomas               Pancreas  \n",
       "6   Cystic, Mucinous and Serous Neoplasms               Pancreas  \n",
       "7        Pancreatic Ductal Adenocarcinoma               Pancreas  \n",
       "8        Pancreatic Ductal Adenocarcinoma               Pancreas  \n",
       "9     Complex Mixed and Stromal Neoplasms               Pancreas  \n",
       "10                                Unknown               Pancreas  \n",
       "11  Cystic, Mucinous and Serous Neoplasms               Pancreas  \n",
       "12                  Acinar Cell Neoplasms               Pancreas  \n",
       "13           Complex Epithelial Neoplasms               Pancreas  \n",
       "14                    Epithelial Neoplasm               Pancreas  \n",
       "15              Epithelial Neoplasms, NOS               Pancreas  \n",
       "16                                Unknown      Pancreas, Unknown  \n",
       "17                         Neoplasms, NOS               Pancreas  \n",
       "18                         Neoplasms, NOS               Pancreas  \n",
       "19  Cystic, Mucinous and Serous Neoplasms               Pancreas  \n",
       "20                                Unknown               Pancreas  \n",
       "21          Neuroendocrine carcinoma, NOS          Pancreas, NOS  \n",
       "22                         Neoplasms, NOS               Pancreas  \n",
       "23  Cystic, Mucinous and Serous Neoplasms               Pancreas  \n",
       "24                         Neoplasms, NOS               Pancreas  \n",
       "25       Pancreatic Ductal Adenocarcinoma               Pancreas  \n",
       "26           Adenomas and Adenocarcinomas               Pancreas  \n",
       "27  Cystic, Mucinous and Serous Neoplasms               Pancreas  \n",
       "28           Adenomas and Adenocarcinomas               Pancreas  \n",
       "29  Cystic, Mucinous and Serous Neoplasms               Pancreas  \n",
       "30           Ductal and Lobular Neoplasms               Pancreas  \n",
       "31          Neuroendocrine carcinoma, NOS          Pancreas, NOS  \n",
       "32        Adenocarcinoma, metastatic, NOS        Pancreatic duct  "
      ]
     },
     "execution_count": 11,
     "metadata": {},
     "output_type": "execute_result"
    }
   ],
   "source": [
    "unique_rows_df"
   ]
  },
  {
   "cell_type": "code",
   "execution_count": 37,
   "metadata": {},
   "outputs": [],
   "source": [
    "unique_rows_df.to_csv(f'../CombinationsForTissues/results/{keyword}_unique_combination.csv')"
   ]
  },
  {
   "cell_type": "code",
   "execution_count": null,
   "metadata": {},
   "outputs": [],
   "source": []
  }
 ],
 "metadata": {
  "kernelspec": {
   "display_name": "env_3.10",
   "language": "python",
   "name": "python3"
  },
  "language_info": {
   "codemirror_mode": {
    "name": "ipython",
    "version": 3
   },
   "file_extension": ".py",
   "mimetype": "text/x-python",
   "name": "python",
   "nbconvert_exporter": "python",
   "pygments_lexer": "ipython3",
   "version": "3.10.7"
  }
 },
 "nbformat": 4,
 "nbformat_minor": 2
}
