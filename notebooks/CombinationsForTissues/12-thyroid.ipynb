{
 "cells": [
  {
   "cell_type": "code",
   "execution_count": 1,
   "metadata": {},
   "outputs": [],
   "source": [
    "import pandas as pd\n",
    "import glob\n",
    "import os"
   ]
  },
  {
   "cell_type": "code",
   "execution_count": 2,
   "metadata": {},
   "outputs": [],
   "source": [
    "base_path = '../../src/fetch_tissue_data/.oncoexporter_cache/'\n",
    "glob_pattern = os.path.join(base_path, '**', '*')\n",
    "files = glob.glob(glob_pattern, recursive=True)"
   ]
  },
  {
   "cell_type": "code",
   "execution_count": 3,
   "metadata": {},
   "outputs": [],
   "source": [
    "keyword = 'Thyroid'\n",
    "dataframes = {}\n",
    "\n",
    "for file in files:\n",
    "    if keyword in file:\n",
    "        df_name = file.split('/')[-1].replace('.pkl', '').replace('_df', '').replace(f'{keyword}_', '')\n",
    "        dataframes[df_name] = pd.read_pickle(file)"
   ]
  },
  {
   "cell_type": "code",
   "execution_count": 4,
   "metadata": {},
   "outputs": [
    {
     "name": "stdout",
     "output_type": "stream",
     "text": [
      "All required keys are present.\n"
     ]
    }
   ],
   "source": [
    "required_keys = ['mutation', 'diagnosis', 'individual', 'rsub', 'specimen', 'treatment']\n",
    "missing_keys = [key for key in required_keys if key not in dataframes]\n",
    "\n",
    "if missing_keys:\n",
    "    print(f\"Missing dataframes for keys: {missing_keys}\")\n",
    "else:\n",
    "    print(\"All required keys are present.\")"
   ]
  },
  {
   "cell_type": "markdown",
   "metadata": {},
   "source": [
    "## Step 1: Merge diagnosis and individual dataframes"
   ]
  },
  {
   "cell_type": "code",
   "execution_count": 5,
   "metadata": {},
   "outputs": [],
   "source": [
    "merged_df = pd.merge(dataframes['diagnosis'], dataframes['individual'], on='subject_id', how='left', suffixes=('_diag', '_ind'))"
   ]
  },
  {
   "cell_type": "markdown",
   "metadata": {},
   "source": [
    "## Step 2: Merge with research subject dataframe"
   ]
  },
  {
   "cell_type": "code",
   "execution_count": 6,
   "metadata": {},
   "outputs": [],
   "source": [
    "merged_df = pd.merge(merged_df, dataframes['rsub'], on='researchsubject_id', how='left', suffixes=('', '_rsub'))"
   ]
  },
  {
   "cell_type": "markdown",
   "metadata": {},
   "source": [
    "## Step 3: Merge with specimen dataframe"
   ]
  },
  {
   "cell_type": "code",
   "execution_count": 7,
   "metadata": {},
   "outputs": [],
   "source": [
    "merged_df = pd.merge(merged_df, dataframes['specimen'], on='researchsubject_id', how='left', suffixes=('', '_spec'))"
   ]
  },
  {
   "cell_type": "markdown",
   "metadata": {},
   "source": [
    "## Step 4: Merge with treatment dataframe"
   ]
  },
  {
   "cell_type": "code",
   "execution_count": 8,
   "metadata": {},
   "outputs": [],
   "source": [
    "merged_df = pd.merge(merged_df, dataframes['treatment'], on='researchsubject_id', how='left', suffixes=('', '_treat'))"
   ]
  },
  {
   "cell_type": "markdown",
   "metadata": {},
   "source": [
    "## Step 5: Merge with mutation dataframe"
   ]
  },
  {
   "cell_type": "code",
   "execution_count": 9,
   "metadata": {},
   "outputs": [],
   "source": [
    "merged_df = pd.merge(merged_df, dataframes['mutation'], left_on='subject_id', right_on='cda_subject_id', how='left', suffixes=('', '_mut'))"
   ]
  },
  {
   "cell_type": "markdown",
   "metadata": {},
   "source": [
    "## Get unique rows based on certain columns"
   ]
  },
  {
   "cell_type": "code",
   "execution_count": 10,
   "metadata": {},
   "outputs": [],
   "source": [
    "unique_rows_df = merged_df.drop_duplicates(subset=['primary_diagnosis', 'primary_diagnosis_condition', 'primary_diagnosis_site']).reset_index(drop=True)[['primary_diagnosis', 'primary_diagnosis_condition', 'primary_diagnosis_site']]"
   ]
  },
  {
   "cell_type": "code",
   "execution_count": 11,
   "metadata": {},
   "outputs": [
    {
     "data": {
      "text/html": [
       "<div>\n",
       "<style scoped>\n",
       "    .dataframe tbody tr th:only-of-type {\n",
       "        vertical-align: middle;\n",
       "    }\n",
       "\n",
       "    .dataframe tbody tr th {\n",
       "        vertical-align: top;\n",
       "    }\n",
       "\n",
       "    .dataframe thead th {\n",
       "        text-align: right;\n",
       "    }\n",
       "</style>\n",
       "<table border=\"1\" class=\"dataframe\">\n",
       "  <thead>\n",
       "    <tr style=\"text-align: right;\">\n",
       "      <th></th>\n",
       "      <th>primary_diagnosis</th>\n",
       "      <th>primary_diagnosis_condition</th>\n",
       "      <th>primary_diagnosis_site</th>\n",
       "    </tr>\n",
       "  </thead>\n",
       "  <tbody>\n",
       "    <tr>\n",
       "      <th>0</th>\n",
       "      <td>Neoplasm, malignant</td>\n",
       "      <td>Neoplasms, NOS</td>\n",
       "      <td>Thyroid gland</td>\n",
       "    </tr>\n",
       "    <tr>\n",
       "      <th>1</th>\n",
       "      <td>Hurthle cell tumor</td>\n",
       "      <td>Adenomas and Adenocarcinomas</td>\n",
       "      <td>Thyroid gland</td>\n",
       "    </tr>\n",
       "    <tr>\n",
       "      <th>2</th>\n",
       "      <td>Malignant lymphoma, large B-cell, diffuse, NOS</td>\n",
       "      <td>Mature B-Cell Lymphomas</td>\n",
       "      <td>Thyroid gland</td>\n",
       "    </tr>\n",
       "    <tr>\n",
       "      <th>3</th>\n",
       "      <td>Nonencapsulated sclerosing carcinoma</td>\n",
       "      <td>Adenomas and Adenocarcinomas</td>\n",
       "      <td>Thyroid gland</td>\n",
       "    </tr>\n",
       "    <tr>\n",
       "      <th>4</th>\n",
       "      <td>Follicular carcinoma, minimally invasive</td>\n",
       "      <td>Adenomas and Adenocarcinomas</td>\n",
       "      <td>Thyroid gland</td>\n",
       "    </tr>\n",
       "    <tr>\n",
       "      <th>5</th>\n",
       "      <td>Hyalinizing trabecular adenoma</td>\n",
       "      <td>Adenomas and Adenocarcinomas</td>\n",
       "      <td>Thyroid gland</td>\n",
       "    </tr>\n",
       "    <tr>\n",
       "      <th>6</th>\n",
       "      <td>Not specified in data</td>\n",
       "      <td>Unknown</td>\n",
       "      <td>Thyroid Gland, Unknown</td>\n",
       "    </tr>\n",
       "    <tr>\n",
       "      <th>7</th>\n",
       "      <td>Not specified in data</td>\n",
       "      <td>Papillary carcinoma, NOS</td>\n",
       "      <td>Thyroid Gland</td>\n",
       "    </tr>\n",
       "    <tr>\n",
       "      <th>8</th>\n",
       "      <td>Not specified in data</td>\n",
       "      <td>Unknown</td>\n",
       "      <td>Thyroid Gland</td>\n",
       "    </tr>\n",
       "    <tr>\n",
       "      <th>9</th>\n",
       "      <td>Papillary Thyroid Carcinoma</td>\n",
       "      <td>Papillary carcinoma, NOS</td>\n",
       "      <td>Thyroid Gland</td>\n",
       "    </tr>\n",
       "    <tr>\n",
       "      <th>10</th>\n",
       "      <td>Not specified in data</td>\n",
       "      <td>Papillary adenocarcinoma, NOS</td>\n",
       "      <td>Thyroid Gland</td>\n",
       "    </tr>\n",
       "    <tr>\n",
       "      <th>11</th>\n",
       "      <td>Follicular hyperplasia/metastatic papillary th...</td>\n",
       "      <td>Papillary adenocarcinoma, NOS</td>\n",
       "      <td>Thyroid Gland</td>\n",
       "    </tr>\n",
       "    <tr>\n",
       "      <th>12</th>\n",
       "      <td>Metastatic papillary thyroid carcinoma</td>\n",
       "      <td>Papillary carcinoma, NOS</td>\n",
       "      <td>Thyroid Gland</td>\n",
       "    </tr>\n",
       "    <tr>\n",
       "      <th>13</th>\n",
       "      <td>Carcinoma, NOS</td>\n",
       "      <td>Epithelial Neoplasms, NOS</td>\n",
       "      <td>Thyroid gland</td>\n",
       "    </tr>\n",
       "    <tr>\n",
       "      <th>14</th>\n",
       "      <td>Carcinoma, anaplastic, NOS</td>\n",
       "      <td>Epithelial Neoplasms, NOS</td>\n",
       "      <td>Thyroid gland</td>\n",
       "    </tr>\n",
       "    <tr>\n",
       "      <th>15</th>\n",
       "      <td>Papillary carcinoma, NOS</td>\n",
       "      <td>Squamous Cell Neoplasms</td>\n",
       "      <td>Thyroid gland</td>\n",
       "    </tr>\n",
       "    <tr>\n",
       "      <th>16</th>\n",
       "      <td>Papillary adenocarcinoma, NOS</td>\n",
       "      <td>Adenomas and Adenocarcinomas</td>\n",
       "      <td>Thyroid gland</td>\n",
       "    </tr>\n",
       "    <tr>\n",
       "      <th>17</th>\n",
       "      <td>Oxyphilic adenocarcinoma</td>\n",
       "      <td>Adenomas and Adenocarcinomas</td>\n",
       "      <td>Thyroid gland</td>\n",
       "    </tr>\n",
       "    <tr>\n",
       "      <th>18</th>\n",
       "      <td>Follicular carcinoma, NOS</td>\n",
       "      <td>Adenomas and Adenocarcinomas</td>\n",
       "      <td>Thyroid gland</td>\n",
       "    </tr>\n",
       "    <tr>\n",
       "      <th>19</th>\n",
       "      <td>Follicular adenocarcinoma, NOS</td>\n",
       "      <td>Adenomas and Adenocarcinomas</td>\n",
       "      <td>Thyroid gland</td>\n",
       "    </tr>\n",
       "    <tr>\n",
       "      <th>20</th>\n",
       "      <td>Follicular adenocarcinoma, well differentiated</td>\n",
       "      <td>Adenomas and Adenocarcinomas</td>\n",
       "      <td>Thyroid gland</td>\n",
       "    </tr>\n",
       "    <tr>\n",
       "      <th>21</th>\n",
       "      <td>Insular carcinoma</td>\n",
       "      <td>Adenomas and Adenocarcinomas</td>\n",
       "      <td>Thyroid gland</td>\n",
       "    </tr>\n",
       "    <tr>\n",
       "      <th>22</th>\n",
       "      <td>Insular carcinoma</td>\n",
       "      <td>Epithelial Neoplasms, NOS</td>\n",
       "      <td>Thyroid gland</td>\n",
       "    </tr>\n",
       "    <tr>\n",
       "      <th>23</th>\n",
       "      <td>Papillary carcinoma, follicular variant</td>\n",
       "      <td>Adenomas and Adenocarcinomas</td>\n",
       "      <td>Thyroid gland</td>\n",
       "    </tr>\n",
       "    <tr>\n",
       "      <th>24</th>\n",
       "      <td>Papillary carcinoma, columnar cell</td>\n",
       "      <td>Adenomas and Adenocarcinomas</td>\n",
       "      <td>Thyroid gland</td>\n",
       "    </tr>\n",
       "    <tr>\n",
       "      <th>25</th>\n",
       "      <td>Medullary carcinoma, NOS</td>\n",
       "      <td>Ductal and Lobular Neoplasms</td>\n",
       "      <td>Thyroid gland</td>\n",
       "    </tr>\n",
       "  </tbody>\n",
       "</table>\n",
       "</div>"
      ],
      "text/plain": [
       "                                    primary_diagnosis  \\\n",
       "0                                 Neoplasm, malignant   \n",
       "1                                  Hurthle cell tumor   \n",
       "2      Malignant lymphoma, large B-cell, diffuse, NOS   \n",
       "3                Nonencapsulated sclerosing carcinoma   \n",
       "4            Follicular carcinoma, minimally invasive   \n",
       "5                      Hyalinizing trabecular adenoma   \n",
       "6                               Not specified in data   \n",
       "7                               Not specified in data   \n",
       "8                               Not specified in data   \n",
       "9                         Papillary Thyroid Carcinoma   \n",
       "10                              Not specified in data   \n",
       "11  Follicular hyperplasia/metastatic papillary th...   \n",
       "12             Metastatic papillary thyroid carcinoma   \n",
       "13                                     Carcinoma, NOS   \n",
       "14                         Carcinoma, anaplastic, NOS   \n",
       "15                           Papillary carcinoma, NOS   \n",
       "16                      Papillary adenocarcinoma, NOS   \n",
       "17                           Oxyphilic adenocarcinoma   \n",
       "18                          Follicular carcinoma, NOS   \n",
       "19                     Follicular adenocarcinoma, NOS   \n",
       "20     Follicular adenocarcinoma, well differentiated   \n",
       "21                                  Insular carcinoma   \n",
       "22                                  Insular carcinoma   \n",
       "23            Papillary carcinoma, follicular variant   \n",
       "24                 Papillary carcinoma, columnar cell   \n",
       "25                           Medullary carcinoma, NOS   \n",
       "\n",
       "      primary_diagnosis_condition  primary_diagnosis_site  \n",
       "0                  Neoplasms, NOS           Thyroid gland  \n",
       "1    Adenomas and Adenocarcinomas           Thyroid gland  \n",
       "2         Mature B-Cell Lymphomas           Thyroid gland  \n",
       "3    Adenomas and Adenocarcinomas           Thyroid gland  \n",
       "4    Adenomas and Adenocarcinomas           Thyroid gland  \n",
       "5    Adenomas and Adenocarcinomas           Thyroid gland  \n",
       "6                         Unknown  Thyroid Gland, Unknown  \n",
       "7        Papillary carcinoma, NOS           Thyroid Gland  \n",
       "8                         Unknown           Thyroid Gland  \n",
       "9        Papillary carcinoma, NOS           Thyroid Gland  \n",
       "10  Papillary adenocarcinoma, NOS           Thyroid Gland  \n",
       "11  Papillary adenocarcinoma, NOS           Thyroid Gland  \n",
       "12       Papillary carcinoma, NOS           Thyroid Gland  \n",
       "13      Epithelial Neoplasms, NOS           Thyroid gland  \n",
       "14      Epithelial Neoplasms, NOS           Thyroid gland  \n",
       "15        Squamous Cell Neoplasms           Thyroid gland  \n",
       "16   Adenomas and Adenocarcinomas           Thyroid gland  \n",
       "17   Adenomas and Adenocarcinomas           Thyroid gland  \n",
       "18   Adenomas and Adenocarcinomas           Thyroid gland  \n",
       "19   Adenomas and Adenocarcinomas           Thyroid gland  \n",
       "20   Adenomas and Adenocarcinomas           Thyroid gland  \n",
       "21   Adenomas and Adenocarcinomas           Thyroid gland  \n",
       "22      Epithelial Neoplasms, NOS           Thyroid gland  \n",
       "23   Adenomas and Adenocarcinomas           Thyroid gland  \n",
       "24   Adenomas and Adenocarcinomas           Thyroid gland  \n",
       "25   Ductal and Lobular Neoplasms           Thyroid gland  "
      ]
     },
     "execution_count": 11,
     "metadata": {},
     "output_type": "execute_result"
    }
   ],
   "source": [
    "unique_rows_df"
   ]
  },
  {
   "cell_type": "code",
   "execution_count": 12,
   "metadata": {},
   "outputs": [],
   "source": [
    "unique_rows_df.to_csv(f'../CombinationsForTissues/results/{keyword}_unique_combination.csv')"
   ]
  },
  {
   "cell_type": "code",
   "execution_count": null,
   "metadata": {},
   "outputs": [],
   "source": []
  }
 ],
 "metadata": {
  "kernelspec": {
   "display_name": "env_3.10",
   "language": "python",
   "name": "python3"
  },
  "language_info": {
   "codemirror_mode": {
    "name": "ipython",
    "version": 3
   },
   "file_extension": ".py",
   "mimetype": "text/x-python",
   "name": "python",
   "nbconvert_exporter": "python",
   "pygments_lexer": "ipython3",
   "version": "3.10.7"
  }
 },
 "nbformat": 4,
 "nbformat_minor": 2
}
