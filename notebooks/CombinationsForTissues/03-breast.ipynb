{
 "cells": [
  {
   "cell_type": "code",
   "execution_count": 1,
   "metadata": {},
   "outputs": [],
   "source": [
    "import pandas as pd\n",
    "import glob\n",
    "import os"
   ]
  },
  {
   "cell_type": "code",
   "execution_count": 2,
   "metadata": {},
   "outputs": [],
   "source": [
    "base_path = '../../src/fetch_tissue_data/.oncoexporter_cache/'\n",
    "glob_pattern = os.path.join(base_path, '**', '*')\n",
    "files = glob.glob(glob_pattern, recursive=True)"
   ]
  },
  {
   "cell_type": "code",
   "execution_count": 3,
   "metadata": {},
   "outputs": [],
   "source": [
    "keyword = 'Breast'\n",
    "dataframes = {}\n",
    "\n",
    "for file in files:\n",
    "    if keyword in file:\n",
    "        df_name = file.split('/')[-1].replace('.pkl', '').replace('_df', '').replace(f'{keyword}_', '')\n",
    "        dataframes[df_name] = pd.read_pickle(file)"
   ]
  },
  {
   "cell_type": "code",
   "execution_count": 4,
   "metadata": {},
   "outputs": [
    {
     "name": "stdout",
     "output_type": "stream",
     "text": [
      "All required keys are present.\n"
     ]
    }
   ],
   "source": [
    "required_keys = ['mutation', 'diagnosis', 'individual', 'rsub', 'specimen', 'treatment']\n",
    "missing_keys = [key for key in required_keys if key not in dataframes]\n",
    "\n",
    "if missing_keys:\n",
    "    print(f\"Missing dataframes for keys: {missing_keys}\")\n",
    "else:\n",
    "    print(\"All required keys are present.\")"
   ]
  },
  {
   "cell_type": "markdown",
   "metadata": {},
   "source": [
    "## Step 1: Merge diagnosis and individual dataframes"
   ]
  },
  {
   "cell_type": "code",
   "execution_count": 5,
   "metadata": {},
   "outputs": [],
   "source": [
    "merged_df = pd.merge(dataframes['diagnosis'], dataframes['individual'], on='subject_id', how='left', suffixes=('_diag', '_ind'))"
   ]
  },
  {
   "cell_type": "markdown",
   "metadata": {},
   "source": [
    "## Step 2: Merge with research subject dataframe"
   ]
  },
  {
   "cell_type": "code",
   "execution_count": 6,
   "metadata": {},
   "outputs": [],
   "source": [
    "merged_df = pd.merge(merged_df, dataframes['rsub'], on='researchsubject_id', how='left', suffixes=('', '_rsub'))"
   ]
  },
  {
   "cell_type": "markdown",
   "metadata": {},
   "source": [
    "## Step 3: Merge with specimen dataframe"
   ]
  },
  {
   "cell_type": "code",
   "execution_count": 7,
   "metadata": {},
   "outputs": [],
   "source": [
    "merged_df = pd.merge(merged_df, dataframes['specimen'], on='researchsubject_id', how='left', suffixes=('', '_spec'))"
   ]
  },
  {
   "cell_type": "markdown",
   "metadata": {},
   "source": [
    "## Step 4: Merge with treatment dataframe"
   ]
  },
  {
   "cell_type": "code",
   "execution_count": 8,
   "metadata": {},
   "outputs": [],
   "source": [
    "merged_df = pd.merge(merged_df, dataframes['treatment'], on='researchsubject_id', how='left', suffixes=('', '_treat'))"
   ]
  },
  {
   "cell_type": "markdown",
   "metadata": {},
   "source": [
    "## Step 5: Merge with mutation dataframe"
   ]
  },
  {
   "cell_type": "code",
   "execution_count": 9,
   "metadata": {},
   "outputs": [],
   "source": [
    "merged_df = pd.merge(merged_df, dataframes['mutation'], left_on='subject_id', right_on='cda_subject_id', how='left', suffixes=('', '_mut'))"
   ]
  },
  {
   "cell_type": "markdown",
   "metadata": {},
   "source": [
    "## Get unique rows based on certain columns"
   ]
  },
  {
   "cell_type": "code",
   "execution_count": 10,
   "metadata": {},
   "outputs": [],
   "source": [
    "unique_rows_df = merged_df.drop_duplicates(subset=['primary_diagnosis', 'primary_diagnosis_condition', 'primary_diagnosis_site']).reset_index(drop=True)[['primary_diagnosis', 'primary_diagnosis_condition', 'primary_diagnosis_site']]"
   ]
  },
  {
   "cell_type": "code",
   "execution_count": 11,
   "metadata": {},
   "outputs": [
    {
     "data": {
      "text/html": [
       "<div>\n",
       "<style scoped>\n",
       "    .dataframe tbody tr th:only-of-type {\n",
       "        vertical-align: middle;\n",
       "    }\n",
       "\n",
       "    .dataframe tbody tr th {\n",
       "        vertical-align: top;\n",
       "    }\n",
       "\n",
       "    .dataframe thead th {\n",
       "        text-align: right;\n",
       "    }\n",
       "</style>\n",
       "<table border=\"1\" class=\"dataframe\">\n",
       "  <thead>\n",
       "    <tr style=\"text-align: right;\">\n",
       "      <th></th>\n",
       "      <th>primary_diagnosis</th>\n",
       "      <th>primary_diagnosis_condition</th>\n",
       "      <th>primary_diagnosis_site</th>\n",
       "    </tr>\n",
       "  </thead>\n",
       "  <tbody>\n",
       "    <tr>\n",
       "      <th>0</th>\n",
       "      <td>Infiltrating duct carcinoma, NOS</td>\n",
       "      <td>Ductal and Lobular Neoplasms</td>\n",
       "      <td>Breast</td>\n",
       "    </tr>\n",
       "    <tr>\n",
       "      <th>1</th>\n",
       "      <td>Carcinoma, NOS</td>\n",
       "      <td>Epithelial Neoplasms, NOS</td>\n",
       "      <td>Breast</td>\n",
       "    </tr>\n",
       "    <tr>\n",
       "      <th>2</th>\n",
       "      <td>Lobular carcinoma, NOS</td>\n",
       "      <td>Ductal and Lobular Neoplasms</td>\n",
       "      <td>Breast</td>\n",
       "    </tr>\n",
       "    <tr>\n",
       "      <th>3</th>\n",
       "      <td>Metaplastic carcinoma, NOS</td>\n",
       "      <td>Complex Epithelial Neoplasms</td>\n",
       "      <td>Breast</td>\n",
       "    </tr>\n",
       "    <tr>\n",
       "      <th>4</th>\n",
       "      <td>Infiltrating ductular carcinoma</td>\n",
       "      <td>Ductal and Lobular Neoplasms</td>\n",
       "      <td>Breast</td>\n",
       "    </tr>\n",
       "    <tr>\n",
       "      <th>...</th>\n",
       "      <td>...</td>\n",
       "      <td>...</td>\n",
       "      <td>...</td>\n",
       "    </tr>\n",
       "    <tr>\n",
       "      <th>70</th>\n",
       "      <td>Adenocarcinoma, NOS</td>\n",
       "      <td>Adenomas and Adenocarcinomas</td>\n",
       "      <td>Breast</td>\n",
       "    </tr>\n",
       "    <tr>\n",
       "      <th>71</th>\n",
       "      <td>Apocrine adenocarcinoma</td>\n",
       "      <td>Adnexal and Skin Appendage Neoplasms</td>\n",
       "      <td>Breast</td>\n",
       "    </tr>\n",
       "    <tr>\n",
       "      <th>72</th>\n",
       "      <td>Neoplasm, malignant</td>\n",
       "      <td>Epithelial Neoplasms, NOS</td>\n",
       "      <td>Breast</td>\n",
       "    </tr>\n",
       "    <tr>\n",
       "      <th>73</th>\n",
       "      <td>Squamous cell carcinoma, NOS</td>\n",
       "      <td>Squamous Cell Neoplasms</td>\n",
       "      <td>Breast</td>\n",
       "    </tr>\n",
       "    <tr>\n",
       "      <th>74</th>\n",
       "      <td>Mucinous carcinoma</td>\n",
       "      <td>Cystic, Mucinous and Serous Neoplasms</td>\n",
       "      <td>Breast</td>\n",
       "    </tr>\n",
       "  </tbody>\n",
       "</table>\n",
       "<p>75 rows × 3 columns</p>\n",
       "</div>"
      ],
      "text/plain": [
       "                   primary_diagnosis            primary_diagnosis_condition  \\\n",
       "0   Infiltrating duct carcinoma, NOS           Ductal and Lobular Neoplasms   \n",
       "1                     Carcinoma, NOS              Epithelial Neoplasms, NOS   \n",
       "2             Lobular carcinoma, NOS           Ductal and Lobular Neoplasms   \n",
       "3         Metaplastic carcinoma, NOS           Complex Epithelial Neoplasms   \n",
       "4    Infiltrating ductular carcinoma           Ductal and Lobular Neoplasms   \n",
       "..                               ...                                    ...   \n",
       "70               Adenocarcinoma, NOS           Adenomas and Adenocarcinomas   \n",
       "71           Apocrine adenocarcinoma   Adnexal and Skin Appendage Neoplasms   \n",
       "72               Neoplasm, malignant              Epithelial Neoplasms, NOS   \n",
       "73      Squamous cell carcinoma, NOS                Squamous Cell Neoplasms   \n",
       "74                Mucinous carcinoma  Cystic, Mucinous and Serous Neoplasms   \n",
       "\n",
       "   primary_diagnosis_site  \n",
       "0                  Breast  \n",
       "1                  Breast  \n",
       "2                  Breast  \n",
       "3                  Breast  \n",
       "4                  Breast  \n",
       "..                    ...  \n",
       "70                 Breast  \n",
       "71                 Breast  \n",
       "72                 Breast  \n",
       "73                 Breast  \n",
       "74                 Breast  \n",
       "\n",
       "[75 rows x 3 columns]"
      ]
     },
     "execution_count": 11,
     "metadata": {},
     "output_type": "execute_result"
    }
   ],
   "source": [
    "unique_rows_df"
   ]
  },
  {
   "cell_type": "code",
   "execution_count": 37,
   "metadata": {},
   "outputs": [],
   "source": [
    "unique_rows_df.to_csv(f'../CombinationsForTissues/results/{keyword}_unique_combination.csv')"
   ]
  },
  {
   "cell_type": "code",
   "execution_count": null,
   "metadata": {},
   "outputs": [],
   "source": []
  }
 ],
 "metadata": {
  "kernelspec": {
   "display_name": "env_3.10",
   "language": "python",
   "name": "python3"
  },
  "language_info": {
   "codemirror_mode": {
    "name": "ipython",
    "version": 3
   },
   "file_extension": ".py",
   "mimetype": "text/x-python",
   "name": "python",
   "nbconvert_exporter": "python",
   "pygments_lexer": "ipython3",
   "version": "3.10.7"
  }
 },
 "nbformat": 4,
 "nbformat_minor": 2
}
