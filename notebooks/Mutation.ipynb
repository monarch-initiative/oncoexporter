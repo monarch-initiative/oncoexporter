{
 "cells": [
  {
   "cell_type": "code",
   "execution_count": null,
   "metadata": {},
   "outputs": [],
   "source": []
  },
  {
   "cell_type": "markdown",
   "metadata": {},
   "source": [
    "# GA4GH GenomicInterpretation\n",
    "\n",
    "This notebook demonstrates how to use the oncopacket Python package to create GA4GH GenomicInterpretation messages from Cancer Data Aggregator (CDA) data.\n",
    "We first extract data about a specimen in a CDA cohort and then use the package to create the GA4GH [Biosample](https://phenopacket-schema.readthedocs.io/en/latest/biosample.html) messages."
   ]
  },
  {
   "cell_type": "markdown",
   "metadata": {},
   "source": []
  },
  {
   "cell_type": "code",
   "execution_count": 1,
   "metadata": {},
   "outputs": [],
   "source": [
    "from oncoexporter.cda import CdaTableImporter, CdaMutationFactory"
   ]
  },
  {
   "cell_type": "code",
   "execution_count": 2,
   "metadata": {},
   "outputs": [],
   "source": [
    "from cdapython import ( Q, set_default_project_dataset, set_host_url, set_table_version )\n",
    "\n",
    "set_default_project_dataset(\"gdc-bq-sample.dev\")\n",
    "set_host_url(\"http://35.192.60.10:8080/\")\n",
    "set_table_version(\"all_merged_subjects_v3_2_final\")"
   ]
  },
  {
   "cell_type": "code",
   "execution_count": 11,
   "metadata": {},
   "outputs": [
    {
     "data": {
      "text/html": [
       "<pre style=\"white-space:pre;overflow-x:auto;line-height:normal;font-family:Menlo,'DejaVu Sans Mono',consolas,'Courier New',monospace\">Retrieving dataframe .lung cancer cohort_mutation_df.pkl\n",
       "</pre>\n"
      ],
      "text/plain": [
       "Retrieving dataframe .lung cancer cohort_mutation_df.pkl\n"
      ]
     },
     "metadata": {},
     "output_type": "display_data"
    },
    {
     "data": {
      "text/html": [
       "<pre style=\"white-space:pre;overflow-x:auto;line-height:normal;font-family:Menlo,'DejaVu Sans Mono',consolas,'Courier New',monospace\">calling CDA function\n",
       "</pre>\n"
      ],
      "text/plain": [
       "calling CDA function\n"
      ]
     },
     "metadata": {},
     "output_type": "display_data"
    },
    {
     "data": {
      "text/html": [
       "<pre style=\"white-space:pre;overflow-x:auto;line-height:normal;font-family:Menlo,'DejaVu Sans Mono',consolas,'Courier New',monospace\">Getting <span style=\"color: #008080; text-decoration-color: #008080; font-weight: bold\">10000</span> results from database \n",
       "\n",
       "</pre>\n"
      ],
      "text/plain": [
       "Getting \u001b[1;36m10000\u001b[0m results from database \n",
       "\n"
      ]
     },
     "metadata": {},
     "output_type": "display_data"
    },
    {
     "data": {
      "text/html": [
       "<pre style=\"white-space:pre;overflow-x:auto;line-height:normal;font-family:Menlo,'DejaVu Sans Mono',consolas,'Courier New',monospace\">\n",
       "                            Total execution time: <span style=\"color: #008080; text-decoration-color: #008080; font-weight: bold\">0</span>\n",
       "                            min <span style=\"color: #008080; text-decoration-color: #008080; font-weight: bold\">6.848</span> sec <span style=\"color: #008080; text-decoration-color: #008080; font-weight: bold\">6848</span> ms\n",
       "                            \n",
       "</pre>\n"
      ],
      "text/plain": [
       "\n",
       "                            Total execution time: \u001b[1;36m0\u001b[0m\n",
       "                            min \u001b[1;36m6.848\u001b[0m sec \u001b[1;36m6848\u001b[0m ms\n",
       "                            \n"
      ]
     },
     "metadata": {},
     "output_type": "display_data"
    },
    {
     "data": {
      "text/html": [
       "<pre style=\"white-space:pre;overflow-x:auto;line-height:normal;font-family:Menlo,'DejaVu Sans Mono',consolas,'Courier New',monospace\"></pre>\n"
      ],
      "text/plain": [
       "\u001b[?1049h\u001b[H"
      ]
     },
     "metadata": {},
     "output_type": "display_data"
    },
    {
     "data": {
      "text/html": [
       "<pre style=\"white-space:pre;overflow-x:auto;line-height:normal;font-family:Menlo,'DejaVu Sans Mono',consolas,'Courier New',monospace\"></pre>\n"
      ],
      "text/plain": [
       "\u001b[?25l"
      ]
     },
     "metadata": {},
     "output_type": "display_data"
    },
    {
     "data": {
      "application/vnd.jupyter.widget-view+json": {
       "model_id": "a1444b6e5a414b3a8d9314e7e1cb5e37",
       "version_major": 2,
       "version_minor": 0
      },
      "text/plain": [
       "Output()"
      ]
     },
     "metadata": {},
     "output_type": "display_data"
    },
    {
     "data": {
      "text/html": [
       "<pre style=\"white-space:pre;overflow-x:auto;line-height:normal;font-family:Menlo,'DejaVu Sans Mono',consolas,'Courier New',monospace\"></pre>\n"
      ],
      "text/plain": [
       "\u001b[?25h\u001b[?1049l"
      ]
     },
     "metadata": {},
     "output_type": "display_data"
    }
   ],
   "source": [
    "cohort_name = \"lung cancer cohort\"\n",
    "Dsite = Q('primary_diagnosis_site = \"%uter%\" OR primary_diagnosis_site = \"%cerv%\"', )\n",
    "tableImporter = CdaTableImporter(cohort_name=cohort_name, query_obj=Dsite)\n",
    "mutation_df = tableImporter.get_mutation_df();"
   ]
  },
  {
   "cell_type": "code",
   "execution_count": 10,
   "metadata": {},
   "outputs": [
    {
     "data": {
      "text/html": [
       "<div>\n",
       "<style scoped>\n",
       "    .dataframe tbody tr th:only-of-type {\n",
       "        vertical-align: middle;\n",
       "    }\n",
       "\n",
       "    .dataframe tbody tr th {\n",
       "        vertical-align: top;\n",
       "    }\n",
       "\n",
       "    .dataframe thead th {\n",
       "        text-align: right;\n",
       "    }\n",
       "</style>\n",
       "<table border=\"1\" class=\"dataframe\">\n",
       "  <thead>\n",
       "    <tr style=\"text-align: right;\">\n",
       "      <th></th>\n",
       "      <th>project_short_name</th>\n",
       "      <th>case_barcode</th>\n",
       "      <th>cda_subject_id</th>\n",
       "      <th>primary_site</th>\n",
       "      <th>Hugo_Symbol</th>\n",
       "      <th>Entrez_Gene_Id</th>\n",
       "      <th>Center</th>\n",
       "      <th>NCBI_Build</th>\n",
       "      <th>Chromosome</th>\n",
       "      <th>Start_Position</th>\n",
       "      <th>...</th>\n",
       "      <th>callers</th>\n",
       "      <th>file_gdc_id</th>\n",
       "      <th>muse</th>\n",
       "      <th>mutect2</th>\n",
       "      <th>pindel</th>\n",
       "      <th>varscan2</th>\n",
       "      <th>sample_barcode_tumor</th>\n",
       "      <th>sample_barcode_normal</th>\n",
       "      <th>aliquot_barcode_tumor</th>\n",
       "      <th>aliquot_barcode_normal</th>\n",
       "    </tr>\n",
       "  </thead>\n",
       "  <tbody>\n",
       "    <tr>\n",
       "      <th>0</th>\n",
       "      <td>TCGA-UCEC</td>\n",
       "      <td>TCGA-A5-A2K4</td>\n",
       "      <td>TCGA.TCGA-A5-A2K4</td>\n",
       "      <td>Corpus uteri</td>\n",
       "      <td>PIK3CA</td>\n",
       "      <td>5290</td>\n",
       "      <td>WUGSC</td>\n",
       "      <td>GRCh38</td>\n",
       "      <td>chr3</td>\n",
       "      <td>179234297</td>\n",
       "      <td>...</td>\n",
       "      <td>muse;mutect2;varscan2</td>\n",
       "      <td>2a008593-96ff-4705-92a5-136bbd0b6f36</td>\n",
       "      <td>Yes</td>\n",
       "      <td>Yes</td>\n",
       "      <td>No</td>\n",
       "      <td>Yes</td>\n",
       "      <td>TCGA-A5-A2K4-01A</td>\n",
       "      <td>TCGA-A5-A2K4-10B</td>\n",
       "      <td>TCGA-A5-A2K4-01A-11D-A18P-09</td>\n",
       "      <td>TCGA-A5-A2K4-10B-01D-A18P-09</td>\n",
       "    </tr>\n",
       "    <tr>\n",
       "      <th>1</th>\n",
       "      <td>TCGA-CESC</td>\n",
       "      <td>TCGA-C5-A1MI</td>\n",
       "      <td>TCGA.TCGA-C5-A1MI</td>\n",
       "      <td>Cervix uteri</td>\n",
       "      <td>IGSF9B</td>\n",
       "      <td>22997</td>\n",
       "      <td>BI</td>\n",
       "      <td>GRCh38</td>\n",
       "      <td>chr11</td>\n",
       "      <td>133921225</td>\n",
       "      <td>...</td>\n",
       "      <td>muse;mutect2;varscan2</td>\n",
       "      <td>3fd5afe7-9e69-4ea8-ab01-80e41783d795</td>\n",
       "      <td>Yes</td>\n",
       "      <td>Yes</td>\n",
       "      <td>No</td>\n",
       "      <td>Yes</td>\n",
       "      <td>TCGA-C5-A1MI-01A</td>\n",
       "      <td>TCGA-C5-A1MI-10A</td>\n",
       "      <td>TCGA-C5-A1MI-01A-11D-A14W-08</td>\n",
       "      <td>TCGA-C5-A1MI-10A-01D-A14W-08</td>\n",
       "    </tr>\n",
       "    <tr>\n",
       "      <th>2</th>\n",
       "      <td>TCGA-CESC</td>\n",
       "      <td>TCGA-EA-A3HQ</td>\n",
       "      <td>TCGA.TCGA-EA-A3HQ</td>\n",
       "      <td>Cervix uteri</td>\n",
       "      <td>ADGRF4</td>\n",
       "      <td>221393</td>\n",
       "      <td>WUGSC</td>\n",
       "      <td>GRCh38</td>\n",
       "      <td>chr6</td>\n",
       "      <td>47714362</td>\n",
       "      <td>...</td>\n",
       "      <td>muse;mutect2;varscan2</td>\n",
       "      <td>b79ead83-dd2c-4ab4-b2b0-21c187904226</td>\n",
       "      <td>Yes</td>\n",
       "      <td>Yes</td>\n",
       "      <td>No</td>\n",
       "      <td>Yes</td>\n",
       "      <td>TCGA-EA-A3HQ-01A</td>\n",
       "      <td>TCGA-EA-A3HQ-10A</td>\n",
       "      <td>TCGA-EA-A3HQ-01A-11D-A20U-09</td>\n",
       "      <td>TCGA-EA-A3HQ-10A-01D-A20U-09</td>\n",
       "    </tr>\n",
       "    <tr>\n",
       "      <th>3</th>\n",
       "      <td>TCGA-UCEC</td>\n",
       "      <td>TCGA-AX-A2H5</td>\n",
       "      <td>TCGA.TCGA-AX-A2H5</td>\n",
       "      <td>Corpus uteri</td>\n",
       "      <td>RSU1</td>\n",
       "      <td>6251</td>\n",
       "      <td>WUGSC</td>\n",
       "      <td>GRCh38</td>\n",
       "      <td>chr10</td>\n",
       "      <td>16752565</td>\n",
       "      <td>...</td>\n",
       "      <td>muse;mutect2;varscan2</td>\n",
       "      <td>d7f2b400-8f86-44d9-973b-ef613628d051</td>\n",
       "      <td>Yes</td>\n",
       "      <td>Yes</td>\n",
       "      <td>No</td>\n",
       "      <td>Yes</td>\n",
       "      <td>TCGA-AX-A2H5-01A</td>\n",
       "      <td>TCGA-AX-A2H5-11A</td>\n",
       "      <td>TCGA-AX-A2H5-01A-11D-A17D-09</td>\n",
       "      <td>TCGA-AX-A2H5-11A-11D-A17D-09</td>\n",
       "    </tr>\n",
       "    <tr>\n",
       "      <th>4</th>\n",
       "      <td>TCGA-UCEC</td>\n",
       "      <td>TCGA-EO-A3AS</td>\n",
       "      <td>TCGA.TCGA-EO-A3AS</td>\n",
       "      <td>Corpus uteri</td>\n",
       "      <td>ACAD10</td>\n",
       "      <td>80724</td>\n",
       "      <td>WUGSC</td>\n",
       "      <td>GRCh38</td>\n",
       "      <td>chr12</td>\n",
       "      <td>111756386</td>\n",
       "      <td>...</td>\n",
       "      <td>muse;mutect2;varscan2</td>\n",
       "      <td>2774b55c-2f7e-4d80-a53f-bf76c76fe0c2</td>\n",
       "      <td>Yes</td>\n",
       "      <td>Yes</td>\n",
       "      <td>No</td>\n",
       "      <td>Yes</td>\n",
       "      <td>TCGA-EO-A3AS-01A</td>\n",
       "      <td>TCGA-EO-A3AS-10A</td>\n",
       "      <td>TCGA-EO-A3AS-01A-11D-A19Y-09</td>\n",
       "      <td>TCGA-EO-A3AS-10A-01D-A19Y-09</td>\n",
       "    </tr>\n",
       "  </tbody>\n",
       "</table>\n",
       "<p>5 rows × 153 columns</p>\n",
       "</div>"
      ],
      "text/plain": [
       "  project_short_name  case_barcode     cda_subject_id  primary_site  \\\n",
       "0          TCGA-UCEC  TCGA-A5-A2K4  TCGA.TCGA-A5-A2K4  Corpus uteri   \n",
       "1          TCGA-CESC  TCGA-C5-A1MI  TCGA.TCGA-C5-A1MI  Cervix uteri   \n",
       "2          TCGA-CESC  TCGA-EA-A3HQ  TCGA.TCGA-EA-A3HQ  Cervix uteri   \n",
       "3          TCGA-UCEC  TCGA-AX-A2H5  TCGA.TCGA-AX-A2H5  Corpus uteri   \n",
       "4          TCGA-UCEC  TCGA-EO-A3AS  TCGA.TCGA-EO-A3AS  Corpus uteri   \n",
       "\n",
       "  Hugo_Symbol  Entrez_Gene_Id Center NCBI_Build Chromosome  Start_Position  \\\n",
       "0      PIK3CA            5290  WUGSC     GRCh38       chr3       179234297   \n",
       "1      IGSF9B           22997     BI     GRCh38      chr11       133921225   \n",
       "2      ADGRF4          221393  WUGSC     GRCh38       chr6        47714362   \n",
       "3        RSU1            6251  WUGSC     GRCh38      chr10        16752565   \n",
       "4      ACAD10           80724  WUGSC     GRCh38      chr12       111756386   \n",
       "\n",
       "   ...                callers                           file_gdc_id muse  \\\n",
       "0  ...  muse;mutect2;varscan2  2a008593-96ff-4705-92a5-136bbd0b6f36  Yes   \n",
       "1  ...  muse;mutect2;varscan2  3fd5afe7-9e69-4ea8-ab01-80e41783d795  Yes   \n",
       "2  ...  muse;mutect2;varscan2  b79ead83-dd2c-4ab4-b2b0-21c187904226  Yes   \n",
       "3  ...  muse;mutect2;varscan2  d7f2b400-8f86-44d9-973b-ef613628d051  Yes   \n",
       "4  ...  muse;mutect2;varscan2  2774b55c-2f7e-4d80-a53f-bf76c76fe0c2  Yes   \n",
       "\n",
       "  mutect2 pindel varscan2 sample_barcode_tumor sample_barcode_normal  \\\n",
       "0     Yes     No      Yes     TCGA-A5-A2K4-01A      TCGA-A5-A2K4-10B   \n",
       "1     Yes     No      Yes     TCGA-C5-A1MI-01A      TCGA-C5-A1MI-10A   \n",
       "2     Yes     No      Yes     TCGA-EA-A3HQ-01A      TCGA-EA-A3HQ-10A   \n",
       "3     Yes     No      Yes     TCGA-AX-A2H5-01A      TCGA-AX-A2H5-11A   \n",
       "4     Yes     No      Yes     TCGA-EO-A3AS-01A      TCGA-EO-A3AS-10A   \n",
       "\n",
       "          aliquot_barcode_tumor        aliquot_barcode_normal  \n",
       "0  TCGA-A5-A2K4-01A-11D-A18P-09  TCGA-A5-A2K4-10B-01D-A18P-09  \n",
       "1  TCGA-C5-A1MI-01A-11D-A14W-08  TCGA-C5-A1MI-10A-01D-A14W-08  \n",
       "2  TCGA-EA-A3HQ-01A-11D-A20U-09  TCGA-EA-A3HQ-10A-01D-A20U-09  \n",
       "3  TCGA-AX-A2H5-01A-11D-A17D-09  TCGA-AX-A2H5-11A-11D-A17D-09  \n",
       "4  TCGA-EO-A3AS-01A-11D-A19Y-09  TCGA-EO-A3AS-10A-01D-A19Y-09  \n",
       "\n",
       "[5 rows x 153 columns]"
      ]
     },
     "execution_count": 10,
     "metadata": {},
     "output_type": "execute_result"
    }
   ],
   "source": [
    "mutation_df.head()\n"
   ]
  },
  {
   "cell_type": "code",
   "execution_count": 47,
   "metadata": {},
   "outputs": [],
   "source": [
    "df = mutation_df[1:10]\n",
    "df.to_csv(\"mutation_excerpt.tsv\", sep=\"\\t\")"
   ]
  },
  {
   "cell_type": "code",
   "execution_count": null,
   "metadata": {},
   "outputs": [],
   "source": []
  },
  {
   "cell_type": "markdown",
   "metadata": {},
   "source": []
  },
  {
   "cell_type": "code",
   "execution_count": 44,
   "metadata": {},
   "outputs": [
    {
     "data": {
      "text/html": [
       "<div>\n",
       "<style scoped>\n",
       "    .dataframe tbody tr th:only-of-type {\n",
       "        vertical-align: middle;\n",
       "    }\n",
       "\n",
       "    .dataframe tbody tr th {\n",
       "        vertical-align: top;\n",
       "    }\n",
       "\n",
       "    .dataframe thead th {\n",
       "        text-align: right;\n",
       "    }\n",
       "</style>\n",
       "<table border=\"1\" class=\"dataframe\">\n",
       "  <thead>\n",
       "    <tr style=\"text-align: right;\">\n",
       "      <th></th>\n",
       "      <th>cda_subject_id</th>\n",
       "      <th>primary_site</th>\n",
       "      <th>Entrez_Gene_Id</th>\n",
       "      <th>NCBI_Build</th>\n",
       "      <th>Chromosome</th>\n",
       "      <th>Start_Position</th>\n",
       "      <th>End_Position</th>\n",
       "      <th>Strand</th>\n",
       "      <th>Variant_Classification</th>\n",
       "      <th>Variant_Type</th>\n",
       "      <th>Reference_Allele</th>\n",
       "      <th>Tumor_Seq_Allele1</th>\n",
       "      <th>Tumor_Seq_Allele2</th>\n",
       "      <th>SYMBOL</th>\n",
       "      <th>SYMBOL_SOURCE</th>\n",
       "      <th>HGNC_ID</th>\n",
       "      <th>HGVSc</th>\n",
       "      <th>HGVSp_Short</th>\n",
       "    </tr>\n",
       "  </thead>\n",
       "  <tbody>\n",
       "    <tr>\n",
       "      <th>0</th>\n",
       "      <td>TCGA.TCGA-A5-A2K4</td>\n",
       "      <td>Corpus uteri</td>\n",
       "      <td>5290</td>\n",
       "      <td>GRCh38</td>\n",
       "      <td>chr3</td>\n",
       "      <td>179234297</td>\n",
       "      <td>179234297</td>\n",
       "      <td>+</td>\n",
       "      <td>Missense_Mutation</td>\n",
       "      <td>SNP</td>\n",
       "      <td>A</td>\n",
       "      <td>A</td>\n",
       "      <td>T</td>\n",
       "      <td>PIK3CA</td>\n",
       "      <td>HGNC</td>\n",
       "      <td>HGNC:8975</td>\n",
       "      <td>c.3140A&gt;T</td>\n",
       "      <td>p.H1047L</td>\n",
       "    </tr>\n",
       "    <tr>\n",
       "      <th>1</th>\n",
       "      <td>TCGA.TCGA-C5-A1MI</td>\n",
       "      <td>Cervix uteri</td>\n",
       "      <td>22997</td>\n",
       "      <td>GRCh38</td>\n",
       "      <td>chr11</td>\n",
       "      <td>133921225</td>\n",
       "      <td>133921225</td>\n",
       "      <td>+</td>\n",
       "      <td>Missense_Mutation</td>\n",
       "      <td>SNP</td>\n",
       "      <td>C</td>\n",
       "      <td>C</td>\n",
       "      <td>T</td>\n",
       "      <td>IGSF9B</td>\n",
       "      <td>HGNC</td>\n",
       "      <td>HGNC:32326</td>\n",
       "      <td>c.2500G&gt;A</td>\n",
       "      <td>p.V834M</td>\n",
       "    </tr>\n",
       "    <tr>\n",
       "      <th>2</th>\n",
       "      <td>TCGA.TCGA-EA-A3HQ</td>\n",
       "      <td>Cervix uteri</td>\n",
       "      <td>221393</td>\n",
       "      <td>GRCh38</td>\n",
       "      <td>chr6</td>\n",
       "      <td>47714362</td>\n",
       "      <td>47714362</td>\n",
       "      <td>+</td>\n",
       "      <td>Nonsense_Mutation</td>\n",
       "      <td>SNP</td>\n",
       "      <td>G</td>\n",
       "      <td>G</td>\n",
       "      <td>T</td>\n",
       "      <td>ADGRF4</td>\n",
       "      <td>HGNC</td>\n",
       "      <td>HGNC:19011</td>\n",
       "      <td>c.1117G&gt;T</td>\n",
       "      <td>p.E373*</td>\n",
       "    </tr>\n",
       "    <tr>\n",
       "      <th>3</th>\n",
       "      <td>TCGA.TCGA-AX-A2H5</td>\n",
       "      <td>Corpus uteri</td>\n",
       "      <td>6251</td>\n",
       "      <td>GRCh38</td>\n",
       "      <td>chr10</td>\n",
       "      <td>16752565</td>\n",
       "      <td>16752565</td>\n",
       "      <td>+</td>\n",
       "      <td>Missense_Mutation</td>\n",
       "      <td>SNP</td>\n",
       "      <td>C</td>\n",
       "      <td>C</td>\n",
       "      <td>T</td>\n",
       "      <td>RSU1</td>\n",
       "      <td>HGNC</td>\n",
       "      <td>HGNC:10464</td>\n",
       "      <td>c.572G&gt;A</td>\n",
       "      <td>p.R191H</td>\n",
       "    </tr>\n",
       "    <tr>\n",
       "      <th>4</th>\n",
       "      <td>TCGA.TCGA-EO-A3AS</td>\n",
       "      <td>Corpus uteri</td>\n",
       "      <td>80724</td>\n",
       "      <td>GRCh38</td>\n",
       "      <td>chr12</td>\n",
       "      <td>111756386</td>\n",
       "      <td>111756386</td>\n",
       "      <td>+</td>\n",
       "      <td>Silent</td>\n",
       "      <td>SNP</td>\n",
       "      <td>C</td>\n",
       "      <td>C</td>\n",
       "      <td>T</td>\n",
       "      <td>ACAD10</td>\n",
       "      <td>HGNC</td>\n",
       "      <td>HGNC:21597</td>\n",
       "      <td>c.3093C&gt;T</td>\n",
       "      <td>p.T1031=</td>\n",
       "    </tr>\n",
       "  </tbody>\n",
       "</table>\n",
       "</div>"
      ],
      "text/plain": [
       "      cda_subject_id  primary_site  Entrez_Gene_Id NCBI_Build Chromosome  \\\n",
       "0  TCGA.TCGA-A5-A2K4  Corpus uteri            5290     GRCh38       chr3   \n",
       "1  TCGA.TCGA-C5-A1MI  Cervix uteri           22997     GRCh38      chr11   \n",
       "2  TCGA.TCGA-EA-A3HQ  Cervix uteri          221393     GRCh38       chr6   \n",
       "3  TCGA.TCGA-AX-A2H5  Corpus uteri            6251     GRCh38      chr10   \n",
       "4  TCGA.TCGA-EO-A3AS  Corpus uteri           80724     GRCh38      chr12   \n",
       "\n",
       "   Start_Position  End_Position Strand Variant_Classification Variant_Type  \\\n",
       "0       179234297     179234297      +      Missense_Mutation          SNP   \n",
       "1       133921225     133921225      +      Missense_Mutation          SNP   \n",
       "2        47714362      47714362      +      Nonsense_Mutation          SNP   \n",
       "3        16752565      16752565      +      Missense_Mutation          SNP   \n",
       "4       111756386     111756386      +                 Silent          SNP   \n",
       "\n",
       "  Reference_Allele Tumor_Seq_Allele1 Tumor_Seq_Allele2  SYMBOL SYMBOL_SOURCE  \\\n",
       "0                A                 A                 T  PIK3CA          HGNC   \n",
       "1                C                 C                 T  IGSF9B          HGNC   \n",
       "2                G                 G                 T  ADGRF4          HGNC   \n",
       "3                C                 C                 T    RSU1          HGNC   \n",
       "4                C                 C                 T  ACAD10          HGNC   \n",
       "\n",
       "      HGNC_ID      HGVSc HGVSp_Short  \n",
       "0   HGNC:8975  c.3140A>T    p.H1047L  \n",
       "1  HGNC:32326  c.2500G>A     p.V834M  \n",
       "2  HGNC:19011  c.1117G>T     p.E373*  \n",
       "3  HGNC:10464   c.572G>A     p.R191H  \n",
       "4  HGNC:21597  c.3093C>T    p.T1031=  "
      ]
     },
     "execution_count": 44,
     "metadata": {},
     "output_type": "execute_result"
    }
   ],
   "source": [
    "columns_of_interest = [\"cda_subject_id\", \"primary_site\", \"Entrez_Gene_Id\", \"NCBI_Build\", \"Chromosome\", \"Start_Position\",\n",
    "                       \"End_Position\", \"Strand\", \"Variant_Classification\", \"Variant_Type\", \"Reference_Allele\", \"Tumor_Seq_Allele1\", \"Tumor_Seq_Allele2\",\n",
    "                       #\"Verification_Status\", \"Validation_Status\", \"Mutation_Status\",\n",
    "                       \"SYMBOL\", \"SYMBOL_SOURCE\", \"HGNC_ID\",\n",
    "                       \"HGVSc\", \"HGVSp_Short\"]\n",
    "mutation_df[columns_of_interest].head()"
   ]
  },
  {
   "cell_type": "code",
   "execution_count": null,
   "metadata": {},
   "outputs": [],
   "source": []
  },
  {
   "cell_type": "code",
   "execution_count": 37,
   "metadata": {},
   "outputs": [
    {
     "data": {
      "text/html": [
       "<pre style=\"white-space:pre;overflow-x:auto;line-height:normal;font-family:Menlo,'DejaVu Sans Mono',consolas,'Courier New',monospace\">project_short_name--case_barcode--cda_subject_id--primary_site--Hugo_Symbol--Entrez_Gene_Id--Center--NCBI_Build--Ch\n",
       "romosome--Start_Position--End_Position--Strand--Variant_Classification--Variant_Type--Reference_Allele--Tumor_Seq_A\n",
       "llele1--Tumor_Seq_Allele2--dbSNP_RS--dbSNP_Val_Status--Tumor_Aliquot_Barcode--Matched_Norm_Aliquot_Barcode--Match_N\n",
       "orm_Seq_Allele1--Match_Norm_Seq_Allele2--Tumor_Validation_Allele1--Tumor_Validation_Allele2--Match_Norm_Validation_\n",
       "Allele1--Match_Norm_Validation_Allele2--Verification_Status--Validation_Status--Mutation_Status--Sequencing_Phase--\n",
       "Sequence_Source--Validation_Method--Score--BAM_File--Sequencer--Tumor_Aliquot_UUID--Matched_Norm_Aliquot_UUID--HGVS\n",
       "c--HGVSp--HGVSp_Short--Transcript_ID--Exon_Number--t_depth--t_ref_count--t_alt_count--n_depth--n_ref_count--n_alt_c\n",
       "ount--all_effects--Allele--Gene--Feature--Feature_type--One_Consequence--Consequence--cDNA_position--CDS_position--\n",
       "Protein_position--Amino_acids--Codons--Existing_variation--DISTANCE--TRANSCRIPT_STRAND--SYMBOL--SYMBOL_SOURCE--HGNC\n",
       "_ID--BIOTYPE--CANONICAL--CCDS--ENSP--SWISSPROT--TREMBL--UNIPARC--UNIPROT_ISOFORM--RefSeq--MANE--APPRIS--FLAGS--SIFT\n",
       "--PolyPhen--EXON--INTRON--DOMAINS--ThousG_AF--ThousG_AFR_AF--ThousG_AMR_AF--ThousG_EAS_AF--ThousG_EUR_AF--ThousG_SA\n",
       "S_AF--ESP_AA_AF--ESP_EA_AF--gnomAD_AF--gnomAD_AFR_AF--gnomAD_AMR_AF--gnomAD_ASJ_AF--gnomAD_EAS_AF--gnomAD_FIN_AF--g\n",
       "nomAD_NFE_AF--gnomAD_OTH_AF--gnomAD_SAS_AF--MAX_AF--MAX_AF_POPS--gnomAD_non_cancer_AF--gnomAD_non_cancer_AFR_AF--gn\n",
       "omAD_non_cancer_AMI_AF--gnomAD_non_cancer_AMR_AF--gnomAD_non_cancer_ASJ_AF--gnomAD_non_cancer_EAS_AF--gnomAD_non_ca\n",
       "ncer_FIN_AF--gnomAD_non_cancer_MID_AF--gnomAD_non_cancer_NFE_AF--gnomAD_non_cancer_OTH_AF--gnomAD_non_cancer_SAS_AF\n",
       "--gnomAD_non_cancer_MAX_AF_adj--gnomAD_non_cancer_MAX_AF_POPS_adj--CLIN_SIG--SOMATIC--PUBMED--TRANSCRIPTION_FACTORS\n",
       "--MOTIF_NAME--MOTIF_POS--HIGH_INF_POS--MOTIF_SCORE_CHANGE--miRNA--IMPACT--PICK--VARIANT_CLASS--TSL--HGVS_OFFSET--PH\n",
       "ENO--GENE_PHENO--CONTEXT--tumor_submitter_uuid--normal_submitter_uuid--case_id--GDC_FILTER--COSMIC--hotspot--RNA_Su\n",
       "pport--RNA_depth--RNA_ref_count--RNA_alt_count--callers--file_gdc_id--muse--mutect2--pindel--varscan2--sample_barco\n",
       "de_tumor--sample_barcode_normal--aliquot_barcode_tumor--aliquot_barcode_normal\n",
       "</pre>\n"
      ],
      "text/plain": [
       "project_short_name--case_barcode--cda_subject_id--primary_site--Hugo_Symbol--Entrez_Gene_Id--Center--NCBI_Build--Ch\n",
       "romosome--Start_Position--End_Position--Strand--Variant_Classification--Variant_Type--Reference_Allele--Tumor_Seq_A\n",
       "llele1--Tumor_Seq_Allele2--dbSNP_RS--dbSNP_Val_Status--Tumor_Aliquot_Barcode--Matched_Norm_Aliquot_Barcode--Match_N\n",
       "orm_Seq_Allele1--Match_Norm_Seq_Allele2--Tumor_Validation_Allele1--Tumor_Validation_Allele2--Match_Norm_Validation_\n",
       "Allele1--Match_Norm_Validation_Allele2--Verification_Status--Validation_Status--Mutation_Status--Sequencing_Phase--\n",
       "Sequence_Source--Validation_Method--Score--BAM_File--Sequencer--Tumor_Aliquot_UUID--Matched_Norm_Aliquot_UUID--HGVS\n",
       "c--HGVSp--HGVSp_Short--Transcript_ID--Exon_Number--t_depth--t_ref_count--t_alt_count--n_depth--n_ref_count--n_alt_c\n",
       "ount--all_effects--Allele--Gene--Feature--Feature_type--One_Consequence--Consequence--cDNA_position--CDS_position--\n",
       "Protein_position--Amino_acids--Codons--Existing_variation--DISTANCE--TRANSCRIPT_STRAND--SYMBOL--SYMBOL_SOURCE--HGNC\n",
       "_ID--BIOTYPE--CANONICAL--CCDS--ENSP--SWISSPROT--TREMBL--UNIPARC--UNIPROT_ISOFORM--RefSeq--MANE--APPRIS--FLAGS--SIFT\n",
       "--PolyPhen--EXON--INTRON--DOMAINS--ThousG_AF--ThousG_AFR_AF--ThousG_AMR_AF--ThousG_EAS_AF--ThousG_EUR_AF--ThousG_SA\n",
       "S_AF--ESP_AA_AF--ESP_EA_AF--gnomAD_AF--gnomAD_AFR_AF--gnomAD_AMR_AF--gnomAD_ASJ_AF--gnomAD_EAS_AF--gnomAD_FIN_AF--g\n",
       "nomAD_NFE_AF--gnomAD_OTH_AF--gnomAD_SAS_AF--MAX_AF--MAX_AF_POPS--gnomAD_non_cancer_AF--gnomAD_non_cancer_AFR_AF--gn\n",
       "omAD_non_cancer_AMI_AF--gnomAD_non_cancer_AMR_AF--gnomAD_non_cancer_ASJ_AF--gnomAD_non_cancer_EAS_AF--gnomAD_non_ca\n",
       "ncer_FIN_AF--gnomAD_non_cancer_MID_AF--gnomAD_non_cancer_NFE_AF--gnomAD_non_cancer_OTH_AF--gnomAD_non_cancer_SAS_AF\n",
       "--gnomAD_non_cancer_MAX_AF_adj--gnomAD_non_cancer_MAX_AF_POPS_adj--CLIN_SIG--SOMATIC--PUBMED--TRANSCRIPTION_FACTORS\n",
       "--MOTIF_NAME--MOTIF_POS--HIGH_INF_POS--MOTIF_SCORE_CHANGE--miRNA--IMPACT--PICK--VARIANT_CLASS--TSL--HGVS_OFFSET--PH\n",
       "ENO--GENE_PHENO--CONTEXT--tumor_submitter_uuid--normal_submitter_uuid--case_id--GDC_FILTER--COSMIC--hotspot--RNA_Su\n",
       "pport--RNA_depth--RNA_ref_count--RNA_alt_count--callers--file_gdc_id--muse--mutect2--pindel--varscan2--sample_barco\n",
       "de_tumor--sample_barcode_normal--aliquot_barcode_tumor--aliquot_barcode_normal\n"
      ]
     },
     "metadata": {},
     "output_type": "display_data"
    }
   ],
   "source": [
    "cn = list([mutation_df.columns])\n",
    "print(\"--\".join(mutation_df.columns))"
   ]
  },
  {
   "cell_type": "code",
   "execution_count": 5,
   "metadata": {},
   "outputs": [
    {
     "data": {
      "text/html": [
       "<pre style=\"white-space:pre;overflow-x:auto;line-height:normal;font-family:Menlo,'DejaVu Sans Mono',consolas,'Courier New',monospace\">We extracted <span style=\"color: #008080; text-decoration-color: #008080; font-weight: bold\">0</span> GA4GH Phenopacket Biosample messages\n",
       "</pre>\n"
      ],
      "text/plain": [
       "We extracted \u001b[1;36m0\u001b[0m GA4GH Phenopacket Biosample messages\n"
      ]
     },
     "metadata": {},
     "output_type": "display_data"
    }
   ],
   "source": [
    "mutation_factory = CdaMutationFactory()\n",
    "ga4gh_genomic_interpretations = []\n",
    "for _, row in mutation_df.iterrows():\n",
    "    ga4gh_genomic_interpretations.append(mutation_factory.to_ga4gh(row=row))\n",
    "print(f\"We extracted {len(ga4gh_genomic_interpretations)} GA4GH Phenopacket Biosample messages\")"
   ]
  }
 ],
 "metadata": {
  "kernelspec": {
   "display_name": "oe3_venv",
   "language": "python",
   "name": "python3"
  },
  "language_info": {
   "codemirror_mode": {
    "name": "ipython",
    "version": 3
   },
   "file_extension": ".py",
   "mimetype": "text/x-python",
   "name": "python",
   "nbconvert_exporter": "python",
   "pygments_lexer": "ipython3",
   "version": "3.8.10"
  }
 },
 "nbformat": 4,
 "nbformat_minor": 2
}
